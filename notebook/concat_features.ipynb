{
 "cells": [
  {
   "cell_type": "code",
   "execution_count": 6,
   "metadata": {},
   "outputs": [],
   "source": [
    "import pandas as pd\n",
    "import numpy as np"
   ]
  },
  {
   "cell_type": "code",
   "execution_count": 7,
   "metadata": {},
   "outputs": [],
   "source": [
    "nfft = 512\n",
    "hop_size = 256"
   ]
  },
  {
   "cell_type": "code",
   "execution_count": 8,
   "metadata": {},
   "outputs": [],
   "source": [
    "bicoh_train_feat_path = '../features/bicoherences/dataframes/train_bicoh_stats_nfft_{}_hop_size_{}.pkl'.format(\n",
    "    nfft, hop_size)\n",
    "lpc_train_feat_path =  '../features/lpc/dataframe/train.pkl'\n",
    "unet_train_feat_path = '../features/unet/train_nfft_{}_hop_size_{}.pkl'.format(nfft, hop_size)\n",
    "\n",
    "\n",
    "bicoh_dev_feat_path = '../features/bicoherences/dataframes/dev_bicoh_stats_nfft_{}_hop_size_{}.pkl'.format(\n",
    "    nfft, hop_size)\n",
    "lpc_dev_feat_path =  '../features/lpc/dataframe/dev.pkl'\n",
    "unet_dev_feat_path = '../features/unet/dev_nfft_{}_hop_size_{}.pkl'.format(nfft, hop_size)\n",
    "\n",
    "\n",
    "bicoh_eval_feat_path = '../features/bicoherences/dataframes/eval_bicoh_stats_nfft_{}_hop_size_{}.pkl'.format(\n",
    "    nfft, hop_size)\n",
    "lpc_eval_feat_path =  '../features/lpc/dataframe/eval.pkl'\n",
    "unet_eval_feat_path = '../features/unet/eval_nfft_{}_hop_size_{}.pkl'.format(nfft, hop_size)\n"
   ]
  },
  {
   "cell_type": "code",
   "execution_count": 9,
   "metadata": {},
   "outputs": [],
   "source": [
    "selected_features = ['lpc', 'bicoh', 'unet']\n",
    "\n",
    "number_lpc_order = 49\n",
    "stop_lpc_order = 50\n",
    "\n",
    "lpc_linspace = np.linspace(start=stop_lpc_order-number_lpc_order, stop=stop_lpc_order, dtype=int)\n",
    "\n",
    "lpc_selected_orders = []\n",
    "for l in lpc_linspace:\n",
    "    lpc_selected_orders.append(str(l))\n",
    "    \n",
    "lpc_selected_orders = tuple(lpc_selected_orders)\n"
   ]
  },
  {
   "cell_type": "code",
   "execution_count": null,
   "metadata": {},
   "outputs": [],
   "source": []
  },
  {
   "cell_type": "code",
   "execution_count": 34,
   "metadata": {},
   "outputs": [],
   "source": [
    "train_features = pd.DataFrame()\n",
    "dev_features = pd.DataFrame()\n",
    "eval_features = pd.DataFrame()\n",
    "\n",
    "for feat in selected_features:\n",
    "    if feat == 'lpc':\n",
    "        lpc_feat_train = pd.read_pickle(lpc_train_feat_path)\n",
    "        lpc_feat_train.set_index('audio_filename', inplace=True)\n",
    "\n",
    "        lpc_feat_dev = pd.read_pickle(lpc_dev_feat_path)\n",
    "        lpc_feat_dev.set_index('audio_filename', inplace=True)\n",
    "\n",
    "        lpc_feat_eval = pd.read_pickle(lpc_eval_feat_path)\n",
    "        lpc_feat_eval.set_index('audio_filename', inplace=True)\n",
    "\n",
    "        drop_list = [a for a in lpc_feat_train.columns if a.startswith(('lpc', 'ltp')) \n",
    "                 and not a.endswith(lpc_selected_orders)]\n",
    "        \n",
    "        lpc_feat_train = lpc_feat_train.drop(drop_list, axis=1)\n",
    "        lpc_feat_dev = lpc_feat_dev.drop(drop_list, axis=1)\n",
    "        lpc_feat_eval = lpc_feat_eval.drop(drop_list, axis=1)\n",
    "\n",
    "        if train_features.empty:\n",
    "            train_features = lpc_feat_train.copy()\n",
    "            \n",
    "            dev_features = lpc_feat_dev.copy()\n",
    "            \n",
    "            eval_features = lpc_feat_eval.copy()\n",
    "        else:\n",
    "            train_features = pd.concat([train_features, lpc_feat_train], axis=1)\n",
    "            dev_features = pd.concat([dev_features, lpc_feat_dev], axis=1)\n",
    "            eval_features = pd.concat([eval_features, lpc_feat_eval], axis=1)\n",
    "        \n",
    "    elif feat == 'bicoh':\n",
    "        bicoh_feat_train = pd.read_pickle(bicoh_train_feat_path)\n",
    "        bicoh_feat_train.set_index('audio_filename', inplace=True)\n",
    "\n",
    "        bicoh_feat_dev = pd.read_pickle(bicoh_dev_feat_path)\n",
    "        bicoh_feat_dev.set_index('audio_filename', inplace=True)\n",
    "\n",
    "        bicoh_feat_eval = pd.read_pickle(bicoh_eval_feat_path)\n",
    "        bicoh_feat_eval.set_index('audio_filename', inplace=True)\n",
    "\n",
    "        if train_features.empty:\n",
    "            train_features = bicoh_feat_train.copy()\n",
    "            \n",
    "            dev_features = bicoh_feat_dev.copy()\n",
    "            \n",
    "            eval_features = bicoh_feat_eval.copy()\n",
    "        else:\n",
    "            train_features = pd.concat([train_features, bicoh_feat_train], axis=1)\n",
    "            dev_features = pd.concat([dev_features, bicoh_feat_dev], axis=1)\n",
    "            eval_features = pd.concat([eval_features, bicoh_feat_eval], axis=1)\n",
    "        \n",
    "    elif feat== 'unet':\n",
    "        unet_feat_train = pd.read_pickle(unet_train_feat_path)\n",
    "        unet_feat_train.set_index('audio_filename', inplace=True)\n",
    "\n",
    "        unet_feat_dev = pd.read_pickle(unet_dev_feat_path)\n",
    "        unet_feat_dev.set_index('audio_filename', inplace=True)\n",
    "\n",
    "        unet_feat_eval = pd.read_pickle(unet_eval_feat_path)\n",
    "        unet_feat_eval.set_index('audio_filename', inplace=True)\n",
    "\n",
    "\n",
    "        if train_features.empty:\n",
    "            train_features = unet_feat_train.copy()\n",
    "            \n",
    "            dev_features = unet_feat_dev.copy()\n",
    "            \n",
    "            eval_features = unet_feat_eval.copy()\n",
    "        else:\n",
    "            train_features = pd.concat([train_features, unet_feat_train], axis=1)\n",
    "            dev_features = pd.concat([dev_features, unet_feat_dev], axis=1)\n",
    "            eval_features = pd.concat([eval_features, unet_feat_eval], axis=1)\n",
    "            \n",
    "            \n",
    "train_features = train_features.loc[:,~train_features.columns.duplicated()]\n",
    "dev_features = dev_features.loc[:,~dev_features.columns.duplicated()]\n",
    "eval_features = eval_features.loc[:,~eval_features.columns.duplicated()]\n",
    "\n",
    "\n",
    "train_features.reset_index(inplace=True)\n",
    "dev_features.reset_index(inplace=True)\n",
    "eval_features.reset_index(inplace=True)"
   ]
  },
  {
   "cell_type": "code",
   "execution_count": 23,
   "metadata": {
    "scrolled": false
   },
   "outputs": [],
   "source": [
    "y_train_open_set = train_features.loc[:, 'system_id']"
   ]
  },
  {
   "cell_type": "code",
   "execution_count": 35,
   "metadata": {},
   "outputs": [
    {
     "data": {
      "text/plain": [
       "array([[334.88987594,  17.98628083,   1.00006594, ...,   0.93589389,\n",
       "         81.66677856,  16.1964016 ],\n",
       "       [182.07341034,  25.10167195,   1.00003391, ...,   1.47024941,\n",
       "        114.99207306,  22.69653511],\n",
       "       [143.27429727,  18.54383241,   1.07217926, ...,   1.6751529 ,\n",
       "        119.53869629,  24.00307083],\n",
       "       ...,\n",
       "       [ 75.01783315,  16.77978971,   1.03098749, ...,   0.51156944,\n",
       "         54.409935  ,  10.83079052],\n",
       "       [238.954941  ,  29.72829882,   1.00355044, ...,   0.64936137,\n",
       "         64.2545929 ,  12.26148415],\n",
       "       [264.36180231,  19.63717774,   1.00628034, ...,   0.74547541,\n",
       "         68.71363831,  13.44063091]])"
      ]
     },
     "execution_count": 35,
     "metadata": {},
     "output_type": "execute_result"
    }
   ],
   "source": [
    "train_features.drop(['audio_filename', 'end_voice', 'start_voice', 'speaker_id', 'label'], axis=1, inplace=True)\n",
    "\n",
    "train_features.loc[:,train_features.columns != 'system_id' ].values"
   ]
  },
  {
   "cell_type": "code",
   "execution_count": null,
   "metadata": {},
   "outputs": [],
   "source": []
  },
  {
   "cell_type": "code",
   "execution_count": null,
   "metadata": {},
   "outputs": [],
   "source": []
  },
  {
   "cell_type": "code",
   "execution_count": null,
   "metadata": {},
   "outputs": [],
   "source": []
  },
  {
   "cell_type": "code",
   "execution_count": null,
   "metadata": {},
   "outputs": [],
   "source": []
  }
 ],
 "metadata": {
  "kernelspec": {
   "display_name": "Python 3",
   "language": "python",
   "name": "python3"
  },
  "language_info": {
   "codemirror_mode": {
    "name": "ipython",
    "version": 3
   },
   "file_extension": ".py",
   "mimetype": "text/x-python",
   "name": "python",
   "nbconvert_exporter": "python",
   "pygments_lexer": "ipython3",
   "version": "3.7.3"
  }
 },
 "nbformat": 4,
 "nbformat_minor": 4
}
