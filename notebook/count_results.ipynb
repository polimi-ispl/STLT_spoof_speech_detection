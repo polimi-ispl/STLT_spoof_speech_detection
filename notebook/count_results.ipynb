{
 "cells": [
  {
   "cell_type": "code",
   "execution_count": 2,
   "metadata": {},
   "outputs": [],
   "source": [
    "import pandas as pd\n",
    "import itertools\n",
    "import os"
   ]
  },
  {
   "cell_type": "code",
   "execution_count": 3,
   "metadata": {},
   "outputs": [],
   "source": [
    "open_set_result_root_path = '/nas/home/cborrelli/bot_speech/results/open_set'\n",
    "closed_set_multiclass_train_dev_result_root_path = '/nas/home/cborrelli/bot_speech/results/closed_set_multiclass_train_dev'\n",
    "closed_set_multiclass_eval_result_root_path = '/nas/home/cborrelli/bot_speech/results/closed_set_multiclass_eval'\n",
    "\n",
    "closed_set_binary_result_root_path = '/nas/home/cborrelli/bot_speech/results/closed_set_binary'"
   ]
  },
  {
   "cell_type": "code",
   "execution_count": 4,
   "metadata": {},
   "outputs": [],
   "source": [
    "number_lpc_order = 49\n",
    "stop_lpc_order = 50\n",
    "\n",
    "unknown_number = 2\n",
    "unknown_label = 7\n",
    "\n",
    "normalizers_keys = [\"minmax\", \"zscore\", \"l2\"]\n",
    "classifiers_keys = [\"svm\", \"rf\"]\n",
    "\n",
    "nfft_list = [128, 256, 512]\n",
    "hop_size_list = [64, 128, 256] \n",
    "\n",
    "multiclass_list = ['A01', 'A02', 'A03', 'A04', 'A05', 'A06']"
   ]
  },
  {
   "cell_type": "markdown",
   "metadata": {},
   "source": [
    "## Open set"
   ]
  },
  {
   "cell_type": "code",
   "execution_count": 126,
   "metadata": {},
   "outputs": [],
   "source": [
    "computed = 0\n",
    "total = 0\n",
    "selected_features = ['lpc', 'bicoh', 'unet']\n",
    "\n",
    "selected_features = ['lpc']\n",
    "classifiers_keys = ['svm']\n",
    "\n",
    "nfft_list = [128, 256, 512]\n",
    "hop_size_list = [64, 128, 256] \n",
    "if selected_features == ['lpc']:\n",
    "    nfft_list = [128]\n",
    "    hop_size_list = [64]\n",
    "\n",
    "for fft_params in zip(nfft_list, hop_size_list):\n",
    "    nfft = fft_params[0]\n",
    "    hop_size = fft_params[1]\n",
    "    for c in classifiers_keys:\n",
    "        for n in normalizers_keys:\n",
    "            unknown_combinations = itertools.combinations(multiclass_list, unknown_number)\n",
    "            for u in unknown_combinations:\n",
    "                result_name = \"class_{}_norm_{}_unknown_{}-{}_nfft_{}_hop-size_{}_numberlpcorder_{}_stoplpcorder_{}\".format(\n",
    "                        c, n, u[0], u[1], nfft, hop_size,\n",
    "                        number_lpc_order,\n",
    "                        stop_lpc_order)\n",
    "\n",
    "                result_name = result_name + \"_selected_features_\" + \"-\".join(\n",
    "                    s for s in selected_features) + \".npy\"\n",
    "\n",
    "                result_filename = os.path.join(open_set_result_root_path, result_name)\n",
    "\n",
    "                if os.path.exists(result_filename):\n",
    "                    computed += 1\n",
    "                \n",
    "                total +=1\n"
   ]
  },
  {
   "cell_type": "code",
   "execution_count": 127,
   "metadata": {},
   "outputs": [
    {
     "data": {
      "text/plain": [
       "25"
      ]
     },
     "execution_count": 127,
     "metadata": {},
     "output_type": "execute_result"
    }
   ],
   "source": [
    "computed"
   ]
  },
  {
   "cell_type": "code",
   "execution_count": 128,
   "metadata": {},
   "outputs": [
    {
     "data": {
      "text/plain": [
       "45"
      ]
     },
     "execution_count": 128,
     "metadata": {},
     "output_type": "execute_result"
    }
   ],
   "source": [
    "total"
   ]
  },
  {
   "cell_type": "code",
   "execution_count": 125,
   "metadata": {},
   "outputs": [
    {
     "data": {
      "text/plain": [
       "50"
      ]
     },
     "execution_count": 125,
     "metadata": {},
     "output_type": "execute_result"
    }
   ],
   "source": [
    "total - computed"
   ]
  },
  {
   "cell_type": "markdown",
   "metadata": {},
   "source": [
    "## Multiclass train dev"
   ]
  },
  {
   "cell_type": "code",
   "execution_count": 141,
   "metadata": {},
   "outputs": [],
   "source": [
    "computed = 0\n",
    "total = 0\n",
    "selected_features = ['lpc', 'bicoh', 'unet']\n",
    "selected_features = ['lpc']\n",
    "classifiers_keys = ['svm', 'rf']\n",
    "nfft_list = [128, 256, 512]\n",
    "hop_size_list = [64, 128, 256] \n",
    "#if selected_features == ['lpc']:\n",
    "#    nfft_list = [128]\n",
    "#    hop_size_list = [64]\n",
    "\n",
    "for fft_params in zip(nfft_list, hop_size_list):\n",
    "    nfft = fft_params[0]\n",
    "    hop_size = fft_params[1]\n",
    "    for c in classifiers_keys:\n",
    "        for n in normalizers_keys:\n",
    "            \n",
    "            result_name = \"class_{}_norm_{}_nfft_{}_hop-size_{}_numberlpcorder_{}_stoplpcorder_{}\".format(\n",
    "                    c, n, nfft, hop_size,\n",
    "                    number_lpc_order,\n",
    "                    stop_lpc_order)\n",
    "\n",
    "            result_name = result_name + \"_selected_features_\" + \"-\".join(\n",
    "                s for s in selected_features) + \".npy\"\n",
    "\n",
    "            result_filename = os.path.join(closed_set_multiclass_train_dev_result_root_path, result_name)\n",
    "\n",
    "            if os.path.exists(result_filename):\n",
    "                computed += 1\n",
    "\n",
    "            total +=1"
   ]
  },
  {
   "cell_type": "code",
   "execution_count": 142,
   "metadata": {},
   "outputs": [
    {
     "data": {
      "text/plain": [
       "6"
      ]
     },
     "execution_count": 142,
     "metadata": {},
     "output_type": "execute_result"
    }
   ],
   "source": [
    "computed"
   ]
  },
  {
   "cell_type": "code",
   "execution_count": 143,
   "metadata": {},
   "outputs": [
    {
     "data": {
      "text/plain": [
       "18"
      ]
     },
     "execution_count": 143,
     "metadata": {},
     "output_type": "execute_result"
    }
   ],
   "source": [
    "total"
   ]
  },
  {
   "cell_type": "markdown",
   "metadata": {},
   "source": [
    "## Multiclass eval"
   ]
  },
  {
   "cell_type": "code",
   "execution_count": 21,
   "metadata": {},
   "outputs": [
    {
     "name": "stdout",
     "output_type": "stream",
     "text": [
      "/nas/home/cborrelli/bot_speech/results/closed_set_multiclass_eval/class_svm_norm_minmax_nfft_256_hop-size_128_numberlpcorder_49_stoplpcorder_50_selected_features_lpc-bicoh.npy\n",
      "/nas/home/cborrelli/bot_speech/results/closed_set_multiclass_eval/class_svm_norm_zscore_nfft_256_hop-size_128_numberlpcorder_49_stoplpcorder_50_selected_features_lpc-bicoh.npy\n",
      "/nas/home/cborrelli/bot_speech/results/closed_set_multiclass_eval/class_svm_norm_minmax_nfft_512_hop-size_256_numberlpcorder_49_stoplpcorder_50_selected_features_lpc-bicoh.npy\n",
      "/nas/home/cborrelli/bot_speech/results/closed_set_multiclass_eval/class_svm_norm_zscore_nfft_512_hop-size_256_numberlpcorder_49_stoplpcorder_50_selected_features_lpc-bicoh.npy\n"
     ]
    }
   ],
   "source": [
    "computed = 0\n",
    "total = 0\n",
    "selected_features = ['lpc', 'bicoh', 'unet']\n",
    "selected_features = ['lpc', 'bicoh'] \n",
    "\n",
    "classifiers_keys = ['svm']\n",
    "\n",
    "normalizers_keys = [\"minmax\", \"zscore\"]\n",
    "classifiers_keys = [\"svm\"]\n",
    "\n",
    "nfft_list = [128, 256, 512]\n",
    "hop_size_list = [64, 128, 256] \n",
    "\n",
    "if selected_features == ['lpc']:\n",
    "    nfft_list = [128]\n",
    "    hop_size_list = [64]\n",
    "    \n",
    "for fft_params in zip(nfft_list, hop_size_list):\n",
    "    nfft = fft_params[0]\n",
    "    hop_size = fft_params[1]\n",
    "    for c in classifiers_keys:\n",
    "        for n in normalizers_keys:\n",
    "            \n",
    "            result_name = \"class_{}_norm_{}_nfft_{}_hop-size_{}_numberlpcorder_{}_stoplpcorder_{}\".format(\n",
    "                    c, n, nfft, hop_size,\n",
    "                    number_lpc_order,\n",
    "                    stop_lpc_order)\n",
    "\n",
    "            result_name = result_name + \"_selected_features_\" + \"-\".join(\n",
    "                s for s in selected_features) + \".npy\"\n",
    "\n",
    "            result_filename = os.path.join(closed_set_multiclass_eval_result_root_path, result_name)\n",
    "\n",
    "            if os.path.exists(result_filename):\n",
    "                print(result_filename)\n",
    "                computed += 1\n",
    "\n",
    "            total +=1"
   ]
  },
  {
   "cell_type": "code",
   "execution_count": 19,
   "metadata": {},
   "outputs": [
    {
     "data": {
      "text/plain": [
       "4"
      ]
     },
     "execution_count": 19,
     "metadata": {},
     "output_type": "execute_result"
    }
   ],
   "source": [
    "computed"
   ]
  },
  {
   "cell_type": "code",
   "execution_count": 20,
   "metadata": {},
   "outputs": [
    {
     "data": {
      "text/plain": [
       "6"
      ]
     },
     "execution_count": 20,
     "metadata": {},
     "output_type": "execute_result"
    }
   ],
   "source": [
    "total"
   ]
  },
  {
   "cell_type": "markdown",
   "metadata": {},
   "source": [
    "## Binary"
   ]
  },
  {
   "cell_type": "code",
   "execution_count": 15,
   "metadata": {},
   "outputs": [],
   "source": [
    "computed = 0\n",
    "total = 0\n",
    "selected_features = ['lpc', 'bicoh', 'unet']\n",
    "selected_features = ['lpc', 'bicoh'] \n",
    "\n",
    "nfft_list = [128, 256, 512]\n",
    "hop_size_list = [64, 128, 256] \n",
    "if selected_features == ['lpc']:\n",
    "    nfft_list = [128]\n",
    "    hop_size_list = [64]\n",
    "normalizers_keys = [\"minmax\", \"zscore\"]\n",
    "classifiers_keys = [\"svm\"]\n",
    "    \n",
    "    \n",
    "for fft_params in zip(nfft_list, hop_size_list):\n",
    "    nfft = fft_params[0]\n",
    "    hop_size = fft_params[1]\n",
    "    for c in classifiers_keys:\n",
    "        for n in normalizers_keys:\n",
    "            \n",
    "            result_name = \"class_{}_norm_{}_nfft_{}_hop-size_{}_numberlpcorder_{}_stoplpcorder_{}\".format(\n",
    "                    c, n, nfft, hop_size,\n",
    "                    number_lpc_order,\n",
    "                    stop_lpc_order)\n",
    "\n",
    "            result_name = result_name + \"_selected_features_\" + \"-\".join(\n",
    "                s for s in selected_features) + \".npy\"\n",
    "\n",
    "            result_filename = os.path.join(closed_set_binary_result_root_path, result_name)\n",
    "\n",
    "            if os.path.exists(result_filename):\n",
    "                computed += 1\n",
    "\n",
    "            total +=1"
   ]
  },
  {
   "cell_type": "code",
   "execution_count": 16,
   "metadata": {},
   "outputs": [
    {
     "data": {
      "text/plain": [
       "6"
      ]
     },
     "execution_count": 16,
     "metadata": {},
     "output_type": "execute_result"
    }
   ],
   "source": [
    "computed"
   ]
  },
  {
   "cell_type": "code",
   "execution_count": 17,
   "metadata": {},
   "outputs": [
    {
     "data": {
      "text/plain": [
       "6"
      ]
     },
     "execution_count": 17,
     "metadata": {},
     "output_type": "execute_result"
    }
   ],
   "source": [
    "total"
   ]
  },
  {
   "cell_type": "code",
   "execution_count": null,
   "metadata": {},
   "outputs": [],
   "source": []
  }
 ],
 "metadata": {
  "kernelspec": {
   "display_name": "Python 3",
   "language": "python",
   "name": "python3"
  },
  "language_info": {
   "codemirror_mode": {
    "name": "ipython",
    "version": 3
   },
   "file_extension": ".py",
   "mimetype": "text/x-python",
   "name": "python",
   "nbconvert_exporter": "python",
   "pygments_lexer": "ipython3",
   "version": "3.7.3"
  }
 },
 "nbformat": 4,
 "nbformat_minor": 4
}
