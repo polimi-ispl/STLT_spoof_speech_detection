{
 "cells": [
  {
   "cell_type": "code",
   "execution_count": 1,
   "metadata": {},
   "outputs": [],
   "source": [
    "import pandas as pd\n",
    "import numpy as np\n",
    "import sys\n",
    "import os\n",
    "import scipy.stats as stats\n",
    "import time\n",
    "import tqdm\n",
    "import seaborn as sns\n",
    "from sklearn import svm\n",
    "from sklearn.metrics import confusion_matrix\n",
    "import matplotlib.pyplot as plt"
   ]
  },
  {
   "cell_type": "markdown",
   "metadata": {},
   "source": [
    "### Load CSV"
   ]
  },
  {
   "cell_type": "code",
   "execution_count": 2,
   "metadata": {},
   "outputs": [],
   "source": [
    "train_txt_path = '../dataset/LA/ASVspoof2019_LA_cm_protocols/ASVspoof2019.LA.cm.train.trn.txt'\n",
    "\n",
    "df_train = pd.read_csv(train_txt_path, sep=\" \", header=None)\n",
    "df_train.columns = [\"speaker_id\", \"audio_filename\", \"null\", \"system_id\", \"label\"]\n",
    "df_train = df_train.drop(columns=\"null\")\n",
    "\n",
    "dev_txt_path = '../dataset/LA/ASVspoof2019_LA_cm_protocols/ASVspoof2019.LA.cm.dev.trl.txt'\n",
    "\n",
    "df_dev = pd.read_csv(dev_txt_path, sep=\" \", header=None)\n",
    "df_dev.columns = [\"speaker_id\", \"audio_filename\", \"null\", \"system_id\", \"label\"]\n",
    "df_dev = df_dev.drop(columns=\"null\")\n",
    "\n",
    "eval_txt_path = '../dataset/LA/ASVspoof2019_LA_cm_protocols/ASVspoof2019.LA.cm.eval.trl.txt'\n",
    "\n",
    "df_eval = pd.read_csv(eval_txt_path, sep=\" \", header=None)\n",
    "df_eval.columns = [\"speaker_id\", \"audio_filename\", \"null\", \"system_id\", \"label\"]\n",
    "df_eval = df_eval.drop(columns=\"null\")"
   ]
  },
  {
   "cell_type": "markdown",
   "metadata": {},
   "source": [
    "### Params"
   ]
  },
  {
   "cell_type": "code",
   "execution_count": 3,
   "metadata": {},
   "outputs": [],
   "source": [
    "nfft = 64\n",
    "hop_size = 32 "
   ]
  },
  {
   "cell_type": "markdown",
   "metadata": {},
   "source": [
    "### Train features"
   ]
  },
  {
   "cell_type": "code",
   "execution_count": 4,
   "metadata": {
    "scrolled": true
   },
   "outputs": [
    {
     "name": "stderr",
     "output_type": "stream",
     "text": [
      "100%|██████████| 25380/25380 [01:21<00:00, 310.30it/s]\n"
     ]
    }
   ],
   "source": [
    "train_feat_root_path = '../features/bicoherences/train_nfft_{}_hop_size_{}'.format(nfft, hop_size)\n",
    "\n",
    "df_train[\"mean_mag\"] = np.nan\n",
    "df_train[\"var_mag\"] = np.nan\n",
    "df_train[\"skew_mag\"] = np.nan\n",
    "df_train[\"kurt_mag\"] = np.nan\n",
    "\n",
    "df_train[\"mean_phase\"] = np.nan\n",
    "df_train[\"var_phase\"] = np.nan\n",
    "df_train[\"skew_phase\"] = np.nan\n",
    "df_train[\"kurt_phase\"] = np.nan\n",
    "\n",
    "\n",
    "for index, row in tqdm.tqdm(df_train.iterrows(), total=df_train.shape[0]):\n",
    "    feat_path = os.path.join(train_feat_root_path, row['audio_filename'] + '.npy')\n",
    "    bicoh = np.load(feat_path)\n",
    "    mag = np.abs(bicoh)\n",
    "    phase = np.angle(bicoh)\n",
    "    df_train.at[index, 'mean_mag'] = np.mean(mag)\n",
    "    df_train.at[index, 'var_mag'] = np.var(mag)\n",
    "    df_train.at[index, 'skew_mag'] = stats.skew(mag, axis=None)\n",
    "    df_train.at[index, 'kurt_mag'] = stats.kurtosis(mag, axis=None)\n",
    "    \n",
    "    df_train.at[index, 'mean_phase'] = np.mean(phase)\n",
    "    df_train.at[index, 'var_phase'] = np.var(phase)\n",
    "    df_train.at[index, 'skew_phase'] = stats.skew(phase, axis=None)\n",
    "    df_train.at[index, 'kurt_phase'] = stats.kurtosis(phase, axis=None)\n",
    "\n"
   ]
  },
  {
   "cell_type": "code",
   "execution_count": 5,
   "metadata": {},
   "outputs": [],
   "source": [
    "# sns.pairplot(data=df_train.iloc[:,3:11], hue='label')"
   ]
  },
  {
   "cell_type": "markdown",
   "metadata": {},
   "source": [
    "### Load dev features"
   ]
  },
  {
   "cell_type": "code",
   "execution_count": 6,
   "metadata": {},
   "outputs": [
    {
     "name": "stderr",
     "output_type": "stream",
     "text": [
      "100%|██████████| 24844/24844 [01:21<00:00, 304.89it/s]\n"
     ]
    }
   ],
   "source": [
    "dev_feat_root_path = '../features/bicoherences/dev_nfft_{}_hop_size_{}'.format(nfft, hop_size)\n",
    "\n",
    "df_dev[\"mean_mag\"] = np.nan\n",
    "df_dev[\"var_mag\"] = np.nan\n",
    "df_dev[\"skew_mag\"] = np.nan\n",
    "df_dev[\"kurt_mag\"] = np.nan\n",
    "\n",
    "df_dev[\"mean_phase\"] = np.nan\n",
    "df_dev[\"var_phase\"] = np.nan\n",
    "df_dev[\"skew_phase\"] = np.nan\n",
    "df_dev[\"kurt_phase\"] = np.nan\n",
    "\n",
    "\n",
    "for index, row in tqdm.tqdm(df_dev.iterrows(), total=df_dev.shape[0]):\n",
    "    feat_path = os.path.join(dev_feat_root_path, row['audio_filename'] + '.npy')\n",
    "    bicoh = np.load(feat_path)\n",
    "    mag = np.abs(bicoh)\n",
    "    phase = np.angle(bicoh)\n",
    "    df_dev.at[index, 'mean_mag'] = np.mean(mag)\n",
    "    df_dev.at[index, 'var_mag'] = np.var(mag)\n",
    "    df_dev.at[index, 'skew_mag'] = stats.skew(mag, axis=None)\n",
    "    df_dev.at[index, 'kurt_mag'] = stats.kurtosis(mag, axis=None)\n",
    "    \n",
    "    df_dev.at[index, 'mean_phase'] = np.mean(phase)\n",
    "    df_dev.at[index, 'var_phase'] = np.var(phase)\n",
    "    df_dev.at[index, 'skew_phase'] = stats.skew(phase, axis=None)\n",
    "    df_dev.at[index, 'kurt_phase'] = stats.kurtosis(phase, axis=None)\n",
    "\n"
   ]
  },
  {
   "cell_type": "markdown",
   "metadata": {},
   "source": [
    "### Prepare data"
   ]
  },
  {
   "cell_type": "code",
   "execution_count": 7,
   "metadata": {},
   "outputs": [],
   "source": [
    "X_train = df_train.iloc[:, 4:].values\n",
    "y_train = df_train.iloc[:, 3].values\n",
    "y_train = [1 if i=='spoof' else 0 for i in y_train]"
   ]
  },
  {
   "cell_type": "code",
   "execution_count": 8,
   "metadata": {},
   "outputs": [],
   "source": [
    "X_test = df_dev.iloc[:, 4:].values\n",
    "y_test = df_dev.iloc[:, 3].values\n",
    "y_test = [1 if i=='spoof' else 0 for i in y_test]"
   ]
  },
  {
   "cell_type": "markdown",
   "metadata": {},
   "source": [
    "### Binary SVM"
   ]
  },
  {
   "cell_type": "code",
   "execution_count": 9,
   "metadata": {},
   "outputs": [
    {
     "data": {
      "text/plain": [
       "SVC(C=1.0, break_ties=False, cache_size=200, class_weight='balanced', coef0=0.0,\n",
       "    decision_function_shape='ovr', degree=3, gamma='scale', kernel='rbf',\n",
       "    max_iter=-1, probability=False, random_state=None, shrinking=True,\n",
       "    tol=0.001, verbose=False)"
      ]
     },
     "execution_count": 9,
     "metadata": {},
     "output_type": "execute_result"
    }
   ],
   "source": [
    "clf = svm.SVC(class_weight='balanced')\n",
    "clf.fit(X_train, y_train)"
   ]
  },
  {
   "cell_type": "markdown",
   "metadata": {},
   "source": [
    " NFFT = 256, HOP_SIZE = 128\n",
    " \n",
    " 0.89"
   ]
  },
  {
   "cell_type": "code",
   "execution_count": 10,
   "metadata": {
    "scrolled": false
   },
   "outputs": [
    {
     "data": {
      "text/plain": [
       "0.5888745773627435"
      ]
     },
     "execution_count": 10,
     "metadata": {},
     "output_type": "execute_result"
    }
   ],
   "source": [
    "clf.score(X_test, y_test)"
   ]
  },
  {
   "cell_type": "code",
   "execution_count": 11,
   "metadata": {},
   "outputs": [
    {
     "data": {
      "text/plain": [
       "array([[ 1805,   743],\n",
       "       [ 9471, 12825]])"
      ]
     },
     "execution_count": 11,
     "metadata": {},
     "output_type": "execute_result"
    }
   ],
   "source": [
    "y_predict = clf.predict(X_test)\n",
    "confusion_matrix(y_test, y_predict)"
   ]
  },
  {
   "cell_type": "markdown",
   "metadata": {},
   "source": [
    "### Multiclass SVM"
   ]
  },
  {
   "cell_type": "code",
   "execution_count": 12,
   "metadata": {},
   "outputs": [],
   "source": [
    "multiclass_dict = {'-':0, 'A01':1, 'A02':2, 'A03':3, 'A04':4, 'A05':5, 'A06':6}\n",
    "y_train_multiclass = df_train.iloc[:, 2].values\n",
    "y_train_multiclass = [multiclass_dict[a] for a in y_train_multiclass]\n",
    "\n",
    "y_test_multiclass = df_dev.iloc[:, 2].values\n",
    "y_test_multiclass = [multiclass_dict[a] for a in y_test_multiclass]"
   ]
  },
  {
   "cell_type": "code",
   "execution_count": 13,
   "metadata": {
    "scrolled": true
   },
   "outputs": [
    {
     "data": {
      "text/plain": [
       "SVC(C=1.0, break_ties=False, cache_size=200, class_weight=None, coef0=0.0,\n",
       "    decision_function_shape='ovr', degree=3, gamma='scale', kernel='rbf',\n",
       "    max_iter=-1, probability=False, random_state=None, shrinking=True,\n",
       "    tol=0.001, verbose=False)"
      ]
     },
     "execution_count": 13,
     "metadata": {},
     "output_type": "execute_result"
    }
   ],
   "source": [
    "mclf = svm.SVC()\n",
    "mclf.fit(X_train, y_train_multiclass)"
   ]
  },
  {
   "cell_type": "code",
   "execution_count": 16,
   "metadata": {},
   "outputs": [
    {
     "data": {
      "text/plain": [
       "<matplotlib.axes._subplots.AxesSubplot at 0x7f0c9fa4d9b0>"
      ]
     },
     "execution_count": 16,
     "metadata": {},
     "output_type": "execute_result"
    },
    {
     "data": {
      "image/png": "[encoded data removed]",
      "text/plain": [
       "<Figure size 720x504 with 2 Axes>"
      ]
     },
     "metadata": {
      "needs_background": "light"
     },
     "output_type": "display_data"
    }
   ],
   "source": [
    "y_predict_multiclass = mclf.predict(X_test)\n",
    "cm = confusion_matrix(y_test_multiclass, y_predict_multiclass)\n",
    "\n",
    "\n",
    "plt.figure(figsize = (10,7))\n",
    "sns.heatmap(cm, annot=True)"
   ]
  },
  {
   "cell_type": "code",
   "execution_count": null,
   "metadata": {},
   "outputs": [],
   "source": []
  }
 ],
 "metadata": {
  "kernelspec": {
   "display_name": "Python 3",
   "language": "python",
   "name": "python3"
  },
  "language_info": {
   "codemirror_mode": {
    "name": "ipython",
    "version": 3
   },
   "file_extension": ".py",
   "mimetype": "text/x-python",
   "name": "python",
   "nbconvert_exporter": "python",
   "pygments_lexer": "ipython3",
   "version": "3.7.3"
  }
 },
 "nbformat": 4,
 "nbformat_minor": 4
}
