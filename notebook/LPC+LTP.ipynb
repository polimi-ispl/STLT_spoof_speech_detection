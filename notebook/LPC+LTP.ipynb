{
 "cells": [
  {
   "cell_type": "code",
   "execution_count": 8,
   "metadata": {},
   "outputs": [],
   "source": [
    "import pandas as pd\n",
    "import os\n",
    "import soundfile as sf\n",
    "import argparse\n",
    "import librosa\n",
    "import numpy as np\n",
    "import scipy as sp\n",
    "import scipy.signal\n",
    "import scipy.stats\n",
    "import webrtcvad\n",
    "import collections\n",
    "import contextlib\n",
    "import struct\n",
    "from tqdm import tqdm\n",
    "from multiprocessing import Pool, cpu_count\n",
    "from functools import partial\n",
    "import matplotlib.pyplot as plt\n",
    "import skimage"
   ]
  },
  {
   "cell_type": "code",
   "execution_count": 9,
   "metadata": {},
   "outputs": [],
   "source": [
    "def float2pcm(sig, dtype='int16'):\n",
    "    sig = np.asarray(sig)\n",
    "    if sig.dtype.kind != 'f':\n",
    "        raise TypeError(\"'sig' must be a float array\")\n",
    "    dtype = np.dtype(dtype)\n",
    "    if dtype.kind not in 'iu':\n",
    "        raise TypeError(\"'dtype' must be an integer type\")\n",
    "\n",
    "    i = np.iinfo(dtype)\n",
    "    abs_max = 2 ** (i.bits - 1)\n",
    "    offset = i.min + abs_max\n",
    "    return (sig * abs_max + offset).clip(i.min, i.max).astype(dtype)\n",
    "\n",
    "\n",
    "def run_vad(data, aggress=2, window_duration=0.03, samplerate=16000):\n",
    "    vad = webrtcvad.Vad()\n",
    "    vad.set_mode(aggress)\n",
    "    audio = float2pcm(data)\n",
    "    raw_samples = struct.pack(\"%dh\" % len(audio), *audio)\n",
    "    samples_per_window = int(window_duration * samplerate)\n",
    "    number_windows = int(np.floor(len(audio) / samples_per_window))\n",
    "    bytes_per_sample = 2\n",
    "\n",
    "    segments = []\n",
    "    for i in np.arange(number_windows):\n",
    "        raw_frame = raw_samples[i * bytes_per_sample * samples_per_window:\n",
    "                                (i + 1) * bytes_per_sample * samples_per_window]\n",
    "        is_speech = vad.is_speech(raw_frame, sample_rate=samplerate)\n",
    "        segments.append(dict(\n",
    "            start = i * samples_per_window,\n",
    "            stop = (i + 1) * samples_per_window - 1,\n",
    "            is_speech=is_speech))\n",
    "\n",
    "    old_bool = segments[0]['is_speech']\n",
    "    new_start = segments[0]['start']\n",
    "\n",
    "    long_segments = []\n",
    "    for i, segment in enumerate(segments):\n",
    "        new_bool = segment['is_speech']\n",
    "        if old_bool == new_bool:\n",
    "            new_stop = segment['stop']\n",
    "        else:\n",
    "            long_segments.append(dict(\n",
    "                start=new_start,\n",
    "                stop=new_stop,\n",
    "                is_speech=old_bool))\n",
    "            new_start = segment['start']\n",
    "            new_stop = segment['stop']\n",
    "        old_bool = new_bool\n",
    "        if i == len(segments) - 1:\n",
    "            long_segments.append(dict(\n",
    "                start=new_start,\n",
    "                stop=new_stop,\n",
    "                is_speech=old_bool))\n",
    "    return long_segments"
   ]
  },
  {
   "cell_type": "code",
   "execution_count": null,
   "metadata": {},
   "outputs": [],
   "source": []
  },
  {
   "cell_type": "code",
   "execution_count": null,
   "metadata": {},
   "outputs": [],
   "source": [
    "\n"
   ]
  },
  {
   "cell_type": "code",
   "execution_count": 10,
   "metadata": {},
   "outputs": [],
   "source": [
    "def compute_lpc(audio, len_lpc, window_length_sec=0.025, samplerate=16000):\n",
    "    len_lpc = int(len_lpc)\n",
    "    window_length = int(window_length_sec * samplerate)\n",
    "    win_number = int(np.floor(len(audio) / window_length))\n",
    "\n",
    "    coeff = np.zeros((win_number, len_lpc + 1 ))\n",
    "    frames = np.zeros((win_number, window_length - 2 * len_lpc - 2))\n",
    "    res = np.zeros((win_number, window_length - 2 * len_lpc - 2))\n",
    "    for i in np.arange(win_number):\n",
    "        frame = audio[i * window_length:(i + 1) * window_length]\n",
    "        try:\n",
    "            a = librosa.lpc(frame, len_lpc)\n",
    "        except:\n",
    "            coeff[i, :] = np.nan\n",
    "            res[i, :] = np.nan\n",
    "            frames[i, :] = np.nan\n",
    "            continue\n",
    "        coeff[i, :] = a\n",
    "        frames[i, :] = frame[len_lpc + 1:-len_lpc - 1]\n",
    "        res_frame = np.asarray(scipy.signal.lfilter(a, [1], frame))\n",
    "        res[i, :] = res_frame[len_lpc + 1:-len_lpc - 1]\n",
    "    res = res[~np.isnan(res).any(axis=1)]\n",
    "    coeff = coeff[~np.isnan(coeff).any(axis=1)]\n",
    "    frames = frames[~np.isnan(frames).any(axis=1)]\n",
    "\n",
    "    return res, coeff, frames\n",
    "\n"
   ]
  },
  {
   "cell_type": "code",
   "execution_count": null,
   "metadata": {},
   "outputs": [],
   "source": []
  },
  {
   "cell_type": "code",
   "execution_count": 15,
   "metadata": {},
   "outputs": [],
   "source": [
    "## call this on the residual of each frame of 25 msec\n",
    "def compute_ltp(err, fs, analysis_frame_length_sec=0.005):\n",
    "    \n",
    "    analysis_frame_length = int(np.round(analysis_frame_length_sec * fs))\n",
    "    win_number = int(np.floor(len(err) / analysis_frame_length))\n",
    "    p_min = int(np.round(0.00625 * fs)) \n",
    "    p_max = int(np.round(0.025 * fs))  \n",
    "    \n",
    "    \n",
    "    J_min = np.ones((win_number,)) * 10e9\n",
    "    M_opt = np.zeros((win_number,))\n",
    "    b_opt = np.zeros((win_number,))\n",
    "    best_res = []\n",
    "    lpc_err = []\n",
    "    \n",
    "    for i in np.arange(win_number):\n",
    "        \n",
    "        current_start_index = int(i * analysis_frame_length) #bs\n",
    "        \n",
    "        if current_start_index < p_max:\n",
    "            #best_res.append(np.zeros((analysis_frame_length,)))\n",
    "            continue\n",
    "        \n",
    "        for m in np.arange(p_max, p_min, -1):\n",
    "            b_num = np.sum(err[current_start_index : current_start_index + analysis_frame_length] *\n",
    "                err[current_start_index - m : current_start_index - m + analysis_frame_length])\n",
    "            b_den = np.sum(err[current_start_index - m : current_start_index - m + analysis_frame_length] ** 2)\n",
    "           \n",
    "            b = b_num / b_den\n",
    "\n",
    "            J_1 = err[current_start_index : current_start_index + analysis_frame_length]\n",
    "            J_2 = b * err[current_start_index - m : current_start_index - m + analysis_frame_length]\n",
    "\n",
    "            J = np.sum((J_1 - J_2) ** 2)\n",
    "            \n",
    "            if J < J_min[i]:\n",
    "                J_min[i] = J\n",
    "                M_opt[i] = m\n",
    "                best_J_1 = J_1\n",
    "                best_J_2 = J_2\n",
    "\n",
    "        best_res.append(best_J_1 - best_J_2)\n",
    "        lpc_err.append(err[current_start_index : current_start_index + analysis_frame_length])\n",
    "    \n",
    "    return np.asarray(best_res), np.asarray(lpc_err)"
   ]
  },
  {
   "cell_type": "code",
   "execution_count": 19,
   "metadata": {},
   "outputs": [],
   "source": [
    "def compute_ltp_fast(err, samplerate=16000, analysis_frame_length_sec=0.005):\n",
    "    analysis_frame_length = int(np.round(analysis_frame_length_sec * samplerate))\n",
    "    win_number = int(np.floor(len(err) / analysis_frame_length))\n",
    "    p_min = int(np.round(0.00625 * samplerate))\n",
    "    p_max = int(np.round(0.025 * samplerate))\n",
    "\n",
    "    best_res = []\n",
    "    lpc_err = []\n",
    "    \n",
    "    count = 0\n",
    "    for i in np.arange(win_number):\n",
    "\n",
    "        current_start_index = int(i * analysis_frame_length)\n",
    "\n",
    "        if current_start_index < p_max:\n",
    "            continue\n",
    "\n",
    "        if np.any(np.isnan(err[current_start_index - p_max : current_start_index + analysis_frame_length])):\n",
    "            count = count + 1\n",
    "            continue\n",
    "\n",
    "        shifted_frame = err[current_start_index - p_max : current_start_index - p_min + analysis_frame_length]\n",
    "        current_frame = err[current_start_index: current_start_index + analysis_frame_length]\n",
    "\n",
    "        b_num = np.correlate(shifted_frame, current_frame, mode='valid')\n",
    "        b_den = np.correlate(shifted_frame**2, np.ones((analysis_frame_length,)), mode='valid')\n",
    "\n",
    "        b = np.divide(b_num, b_den)\n",
    "        \n",
    "        current_frame_rep = np.tile(current_frame, (p_max - p_min + 1, 1))\n",
    "        scaled_shifted_frame = skimage.util.view_as_windows(shifted_frame, analysis_frame_length, \n",
    "                                                            step=1) * np.expand_dims(b, axis=1)\n",
    "        J = np.sum((current_frame_rep - scaled_shifted_frame)**2, axis=1) \n",
    "        m_opt = np.argmin(J)\n",
    "        \n",
    "        best_res.append(current_frame - scaled_shifted_frame[m_opt, :])\n",
    "        lpc_err.append(current_frame)\n",
    "    if count != 0:\n",
    "        print('In this audio {} not valid frames of 0.005 sec were found'.format(count))\n",
    "    return np.asarray(best_res), np.asarray(lpc_err)"
   ]
  },
  {
   "cell_type": "code",
   "execution_count": 20,
   "metadata": {},
   "outputs": [],
   "source": [
    "audio_folder = '/nas/home/cborrelli/bot_speech/notebook/audio' \n",
    "audio_filename = 'voiced_a.wav'\n",
    "\n",
    "\n",
    "data, samplerate = sf.read(os.path.join(audio_folder, audio_filename))\n",
    "res, coeff, frames = compute_lpc(data[:10000], len_lpc=10, window_length_sec=0.025, samplerate=samplerate)\n",
    "\n"
   ]
  },
  {
   "cell_type": "code",
   "execution_count": 25,
   "metadata": {},
   "outputs": [
    {
     "data": {
      "image/png": "[encoded data removed]",
      "text/plain": [
       "<Figure size 432x288 with 1 Axes>"
      ]
     },
     "metadata": {
      "needs_background": "light"
     },
     "output_type": "display_data"
    }
   ],
   "source": [
    "a1 = compute_ltp(res.ravel(), samplerate)\n",
    "\n",
    "plt.figure()\n",
    "plt.plot(a[1].ravel())\n",
    "plt.plot(a[0].ravel())\n",
    "\n",
    "plt.show()"
   ]
  },
  {
   "cell_type": "code",
   "execution_count": 26,
   "metadata": {
    "scrolled": false
   },
   "outputs": [
    {
     "data": {
      "image/png": "[encoded data removed]",
      "text/plain": [
       "<Figure size 432x288 with 1 Axes>"
      ]
     },
     "metadata": {
      "needs_background": "light"
     },
     "output_type": "display_data"
    }
   ],
   "source": [
    "a2 = compute_ltp_fast(res.ravel(), samplerate)\n",
    "\n",
    "plt.figure()\n",
    "plt.plot(a[1].ravel())\n",
    "plt.plot(a[0].ravel())\n",
    "\n",
    "plt.show()"
   ]
  },
  {
   "cell_type": "code",
   "execution_count": 28,
   "metadata": {},
   "outputs": [
    {
     "data": {
      "text/plain": [
       "[<matplotlib.lines.Line2D at 0x7f0dc9538908>]"
      ]
     },
     "execution_count": 28,
     "metadata": {},
     "output_type": "execute_result"
    },
    {
     "data": {
      "image/png": "[encoded data removed]",
      "text/plain": [
       "<Figure size 432x288 with 1 Axes>"
      ]
     },
     "metadata": {
      "needs_background": "light"
     },
     "output_type": "display_data"
    }
   ],
   "source": [
    "plt.plot(a1[0].ravel() - a2[0].ravel())"
   ]
  },
  {
   "cell_type": "code",
   "execution_count": null,
   "metadata": {},
   "outputs": [],
   "source": [
    "print(p_min)\n",
    "print(p_max)"
   ]
  },
  {
   "cell_type": "code",
   "execution_count": null,
   "metadata": {},
   "outputs": [],
   "source": [
    "plt.figure(figsize=(16, 8))\n",
    "plt.plot(res.ravel()[:200])"
   ]
  },
  {
   "cell_type": "code",
   "execution_count": null,
   "metadata": {},
   "outputs": [],
   "source": [
    "int(np.round(0.005 * 22050))"
   ]
  },
  {
   "cell_type": "code",
   "execution_count": null,
   "metadata": {},
   "outputs": [],
   "source": []
  },
  {
   "cell_type": "code",
   "execution_count": null,
   "metadata": {},
   "outputs": [],
   "source": []
  },
  {
   "cell_type": "code",
   "execution_count": null,
   "metadata": {},
   "outputs": [],
   "source": []
  }
 ],
 "metadata": {
  "kernelspec": {
   "display_name": "Python 3",
   "language": "python",
   "name": "python3"
  },
  "language_info": {
   "codemirror_mode": {
    "name": "ipython",
    "version": 3
   },
   "file_extension": ".py",
   "mimetype": "text/x-python",
   "name": "python",
   "nbconvert_exporter": "python",
   "pygments_lexer": "ipython3",
   "version": "3.7.3"
  }
 },
 "nbformat": 4,
 "nbformat_minor": 2
}
