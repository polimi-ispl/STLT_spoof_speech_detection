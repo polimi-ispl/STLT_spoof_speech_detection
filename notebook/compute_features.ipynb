{
 "cells": [
  {
   "cell_type": "code",
   "execution_count": 1,
   "metadata": {},
   "outputs": [],
   "source": [
    "import pandas as pd\n",
    "import os\n",
    "import soundfile as sf\n",
    "import argparse\n",
    "import librosa\n",
    "import numpy as np\n",
    "import scipy as sp\n",
    "import scipy.signal\n",
    "import scipy.stats\n",
    "import webrtcvad\n",
    "import collections\n",
    "import contextlib\n",
    "import struct\n",
    "from tqdm import tqdm\n",
    "from multiprocessing import Pool, cpu_count\n",
    "from functools import partial\n",
    "import matplotlib.pyplot as plt\n",
    "import time"
   ]
  },
  {
   "cell_type": "code",
   "execution_count": null,
   "metadata": {},
   "outputs": [],
   "source": []
  },
  {
   "cell_type": "code",
   "execution_count": 2,
   "metadata": {},
   "outputs": [],
   "source": [
    "def float2pcm(sig, dtype='int16'):\n",
    "    sig = np.asarray(sig)\n",
    "    if sig.dtype.kind != 'f':\n",
    "        raise TypeError(\"'sig' must be a float array\")\n",
    "    dtype = np.dtype(dtype)\n",
    "    if dtype.kind not in 'iu':\n",
    "        raise TypeError(\"'dtype' must be an integer type\")\n",
    "\n",
    "    i = np.iinfo(dtype)\n",
    "    abs_max = 2 ** (i.bits - 1)\n",
    "    offset = i.min + abs_max\n",
    "    return (sig * abs_max + offset).clip(i.min, i.max).astype(dtype)\n",
    "\n",
    "\n",
    "def run_vad(data, aggress=2, window_duration=0.03, samplerate=16000):\n",
    "    vad = webrtcvad.Vad()\n",
    "    vad.set_mode(aggress)\n",
    "    audio = float2pcm(data)\n",
    "    raw_samples = struct.pack(\"%dh\" % len(audio), *audio)\n",
    "    samples_per_window = int(window_duration * samplerate)\n",
    "    number_windows = int(np.floor(len(audio) / samples_per_window))\n",
    "    bytes_per_sample = 2\n",
    "\n",
    "    segments = []\n",
    "    for i in np.arange(number_windows):\n",
    "        raw_frame = raw_samples[i * bytes_per_sample * samples_per_window:\n",
    "                                (i + 1) * bytes_per_sample * samples_per_window]\n",
    "        is_speech = vad.is_speech(raw_frame, sample_rate=samplerate)\n",
    "        segments.append(dict(\n",
    "            start=i * samples_per_window,\n",
    "            stop=(i + 1) * samples_per_window - 1,\n",
    "            is_speech=is_speech))\n",
    "\n",
    "    old_bool = segments[0]['is_speech']\n",
    "    new_start = segments[0]['start']\n",
    "\n",
    "    long_segments = []\n",
    "    for i, segment in enumerate(segments):\n",
    "        new_bool = segment['is_speech']\n",
    "        if old_bool == new_bool:\n",
    "            new_stop = segment['stop']\n",
    "        else:\n",
    "            long_segments.append(dict(\n",
    "                start=new_start,\n",
    "                stop=new_stop,\n",
    "                is_speech=old_bool))\n",
    "            new_start = segment['start']\n",
    "            new_stop = segment['stop']\n",
    "        old_bool = new_bool\n",
    "        if i == len(segments) - 1:\n",
    "            long_segments.append(dict(\n",
    "                start=new_start,\n",
    "                stop=new_stop,\n",
    "                is_speech=old_bool))\n",
    "    return long_segments"
   ]
  },
  {
   "cell_type": "code",
   "execution_count": null,
   "metadata": {},
   "outputs": [],
   "source": []
  },
  {
   "cell_type": "code",
   "execution_count": null,
   "metadata": {},
   "outputs": [],
   "source": []
  },
  {
   "cell_type": "code",
   "execution_count": 396,
   "metadata": {},
   "outputs": [],
   "source": [
    "def compute_lpc(audio, len_lpc, window_length_sec=0.025, samplerate=16000):\n",
    "    len_lpc = int(len_lpc)\n",
    "    window_length = int(window_length_sec * samplerate)\n",
    "    win_number = int(np.floor(len(audio) / window_length))\n",
    "\n",
    "    coeff = np.zeros((win_number, len_lpc + 1))\n",
    "    frames = np.zeros((win_number, window_length - 2 * len_lpc - 2))\n",
    "    res = np.zeros((win_number, window_length - 2 * len_lpc - 2))\n",
    "    count = 0\n",
    "    for i in np.arange(win_number):\n",
    "        frame = audio[i * window_length:(i + 1) * window_length]\n",
    "\n",
    "        try:\n",
    "            a = librosa.lpc(frame, len_lpc)\n",
    "        except:\n",
    "            count = count + 1\n",
    "            coeff[i, :] = np.nan\n",
    "            res[i, :] = np.nan\n",
    "            frames[i, :] = np.nan\n",
    "            continue\n",
    "\n",
    "        coeff[i, :] = a\n",
    "        frames[i, :] = frame[len_lpc + 1:-len_lpc - 1]\n",
    "        res_frame = np.asarray(scipy.signal.lfilter(a, [1], frame))\n",
    "        res[i, :] = res_frame[len_lpc + 1:-len_lpc - 1]\n",
    "\n",
    "    if count != 0:\n",
    "        print('In this audio {} not valid frames of 0.025 sec were found'.format(count))\n",
    "    #res = res[~np.isnan(res).any(axis=1)]\n",
    "    #coeff = coeff[~np.isnan(coeff).any(axis=1)]\n",
    "    # here I want to remove the samples where res is not valid (for computing gain I need them to be synchronized)\n",
    "    #frames = frames[~np.isnan(frames).any(axis=1)]\n",
    "\n",
    "    return res, coeff, frames\n",
    "\n",
    "\n",
    "def compute_ltp(err, samplerate=16000, analysis_frame_length_sec=0.005):\n",
    "    analysis_frame_length = int(np.round(analysis_frame_length_sec * samplerate))\n",
    "    win_number = int(np.floor(len(err) / analysis_frame_length))\n",
    "    p_min = int(np.round(0.00625 * samplerate))\n",
    "    p_max = int(np.round(0.025 * samplerate))\n",
    "\n",
    "    J_min = np.ones((win_number,)) * 10e9\n",
    "    M_opt = np.zeros((win_number,))\n",
    "    b_opt = np.zeros((win_number,))\n",
    "    best_res = []\n",
    "    lpc_err = []\n",
    "\n",
    "    count = 0\n",
    "    for i in np.arange(win_number):\n",
    "\n",
    "        current_start_index = int(i * analysis_frame_length)  # bs\n",
    "\n",
    "        if current_start_index < p_max:\n",
    "            # best_res.append(np.zeros((analysis_frame_length,)))\n",
    "            continue\n",
    "\n",
    "        if np.any(np.isnan(err[current_start_index - p_max : current_start_index + analysis_frame_length])):\n",
    "            count = count + 1\n",
    "            continue\n",
    "        gains = []\n",
    "        for m in np.arange(p_max, p_min + 1, -1):\n",
    "            b_num = np.sum(err[current_start_index: current_start_index + analysis_frame_length] *\n",
    "                           err[current_start_index - m: current_start_index - m + analysis_frame_length])\n",
    "            b_den = np.sum(err[current_start_index - m: current_start_index - m + analysis_frame_length] ** 2)\n",
    "    \n",
    "            b = b_num / b_den\n",
    "            J_1 = err[current_start_index: current_start_index + analysis_frame_length]\n",
    "            J_2 = b * err[current_start_index - m: current_start_index - m + analysis_frame_length]\n",
    "\n",
    "            J = np.sum((J_1 - J_2) ** 2)\n",
    "            gains.append(err[current_start_index - m: current_start_index - m + analysis_frame_length])\n",
    "\n",
    "            if J < J_min[i]:\n",
    "                J_min[i] = J\n",
    "                M_opt[i] = m\n",
    "                best_J_1 = J_1\n",
    "                best_J_2 = J_2\n",
    "        #print(gains)\n",
    "        best_res.append(best_J_1 - best_J_2)\n",
    "        lpc_err.append(err[current_start_index: current_start_index + analysis_frame_length])\n",
    "\n",
    "    print('In this audio {} not valid frames of 0.005 sec were found'.format(count))\n",
    "    return np.asarray(best_res), np.asarray(lpc_err)\n",
    "\n"
   ]
  },
  {
   "cell_type": "code",
   "execution_count": 395,
   "metadata": {},
   "outputs": [],
   "source": [
    "def compute_ltp_fast(err, samplerate=16000, analysis_frame_length_sec=0.005):\n",
    "    analysis_frame_length = int(np.round(analysis_frame_length_sec * samplerate))\n",
    "    win_number = int(np.floor(len(err) / analysis_frame_length))\n",
    "    p_min = int(np.round(0.00625 * samplerate))\n",
    "    p_max = int(np.round(0.025 * samplerate))\n",
    "\n",
    "    best_res = []\n",
    "    lpc_err = []\n",
    "    \n",
    "    count = 0\n",
    "    for i in np.arange(win_number):\n",
    "\n",
    "        current_start_index = int(i * analysis_frame_length)\n",
    "\n",
    "        if current_start_index < p_max:\n",
    "            continue\n",
    "\n",
    "        if np.any(np.isnan(err[current_start_index - p_max : current_start_index + analysis_frame_length])):\n",
    "            count = count + 1\n",
    "            continue\n",
    "\n",
    "        shifted_frame = err[current_start_index - p_max : current_start_index - p_min + analysis_frame_length]\n",
    "        current_frame = err[current_start_index: current_start_index + analysis_frame_length]\n",
    "\n",
    "        b_num = np.correlate(shifted_frame, current_frame, mode='valid')\n",
    "        b_den = np.correlate(shifted_frame**2, np.ones((analysis_frame_length,)), mode='valid')\n",
    "\n",
    "        b = np.divide(b_num, b_den)\n",
    "        \n",
    "        current_frame_rep = np.tile(current_frame, (p_max - p_min + 1, 1))\n",
    "        scaled_shifted_frame = skimage.util.view_as_windows(shifted_frame, analysis_frame_length, \n",
    "                                                            step=1) * np.expand_dims(b, axis=1)\n",
    "        J = np.sum((current_frame_rep - scaled_shifted_frame)**2, axis=1) \n",
    "        m_opt = np.argmin(J)\n",
    "        \n",
    "        best_res.append(current_frame - scaled_shifted_frame[m_opt, :])\n",
    "        lpc_err.append(current_frame)\n",
    "    if count != 0:\n",
    "        print('In this audio {} not valid frames of 0.005 sec were found'.format(count))\n",
    "    return np.asarray(best_res), np.asarray(lpc_err)"
   ]
  },
  {
   "cell_type": "code",
   "execution_count": 397,
   "metadata": {},
   "outputs": [],
   "source": [
    "audio_folder = '/nas/home/cborrelli/bot_speech/notebook/audio/bonafide' \n",
    "audio_filename = 'LA_T_1011221.flac'\n",
    "data, samplerate = sf.read(os.path.join(audio_folder, audio_filename))\n",
    "\n",
    "\n",
    "lpc_length = 5\n",
    "res, _ , frames = compute_lpc(data, len_lpc=lpc_length)\n",
    "err = res.ravel()"
   ]
  },
  {
   "cell_type": "code",
   "execution_count": 398,
   "metadata": {},
   "outputs": [
    {
     "name": "stdout",
     "output_type": "stream",
     "text": [
      "In this audio 0 not valid frames of 0.005 sec were found\n",
      "4.862137794494629\n"
     ]
    }
   ],
   "source": [
    "start = time.time()\n",
    "res2, ress = compute_ltp(err)\n",
    "print(time.time() - start)"
   ]
  },
  {
   "cell_type": "code",
   "execution_count": 399,
   "metadata": {},
   "outputs": [
    {
     "name": "stdout",
     "output_type": "stream",
     "text": [
      "0.3224446773529053\n"
     ]
    }
   ],
   "source": [
    "start = time.time()\n",
    "\n",
    "res2fast, resfast = compute_ltp_fast(err)\n",
    "print(time.time() - start)"
   ]
  },
  {
   "cell_type": "code",
   "execution_count": 408,
   "metadata": {},
   "outputs": [
    {
     "data": {
      "text/plain": [
       "[<matplotlib.lines.Line2D at 0x7f7c256e7588>]"
      ]
     },
     "execution_count": 408,
     "metadata": {},
     "output_type": "execute_result"
    },
    {
     "data": {
      "image/png": "[encoded data removed]",
      "text/plain": [
       "<Figure size 1152x576 with 1 Axes>"
      ]
     },
     "metadata": {
      "needs_background": "light"
     },
     "output_type": "display_data"
    }
   ],
   "source": [
    "plt.figure(figsize=(16,8))\n",
    "plt.plot(resfast.ravel())\n",
    "plt.plot(res2fast.ravel())\n"
   ]
  },
  {
   "cell_type": "code",
   "execution_count": 406,
   "metadata": {},
   "outputs": [
    {
     "data": {
      "text/plain": [
       "[<matplotlib.lines.Line2D at 0x7f7c25781470>]"
      ]
     },
     "execution_count": 406,
     "metadata": {},
     "output_type": "execute_result"
    },
    {
     "data": {
      "image/png": "[encoded data removed]",
      "text/plain": [
       "<Figure size 1152x576 with 1 Axes>"
      ]
     },
     "metadata": {
      "needs_background": "light"
     },
     "output_type": "display_data"
    }
   ],
   "source": [
    "plt.figure(figsize=(16,8))\n",
    "plt.plot(ress.ravel())\n",
    "plt.plot(res2.ravel())\n"
   ]
  },
  {
   "cell_type": "code",
   "execution_count": 428,
   "metadata": {},
   "outputs": [
    {
     "data": {
      "text/plain": [
       "[<matplotlib.lines.Line2D at 0x7f7c25371898>]"
      ]
     },
     "execution_count": 428,
     "metadata": {},
     "output_type": "execute_result"
    },
    {
     "data": {
      "image/png": "[encoded data removed]",
      "text/plain": [
       "<Figure size 1152x576 with 1 Axes>"
      ]
     },
     "metadata": {
      "needs_background": "light"
     },
     "output_type": "display_data"
    },
    {
     "data": {
      "image/png": "[encoded data removed]",
      "text/plain": [
       "<Figure size 1152x576 with 1 Axes>"
      ]
     },
     "metadata": {
      "needs_background": "light"
     },
     "output_type": "display_data"
    }
   ],
   "source": [
    "plt.figure(figsize=(16,8))\n",
    "plt.plot(res2.ravel()[55000:75000] - res2fast.ravel()[55000:75000])\n",
    "plt.figure(figsize=(16,8))\n",
    "plt.plot(ress.ravel()[55000:75000])\n"
   ]
  },
  {
   "cell_type": "code",
   "execution_count": 423,
   "metadata": {},
   "outputs": [
    {
     "data": {
      "text/plain": [
       "array([-0.01478141, -0.01821847,  0.00534897, -0.00288434, -0.00805902,\n",
       "        0.01142079,  0.00869057, -0.00491565, -0.0617776 ,  0.0032882 ,\n",
       "        0.03614751, -0.03669834,  0.00566328,  0.0162181 ,  0.00858021,\n",
       "       -0.0084189 ,  0.01063561,  0.00405416,  0.02218318, -0.00047825,\n",
       "        0.01273644,  0.00906606,  0.02201593,  0.01494627,  0.00231272,\n",
       "        0.01963163, -0.0075155 , -0.01888253,  0.02605592,  0.01162972,\n",
       "        0.04642476, -0.04462987, -0.01198011,  0.03715908,  0.00984371,\n",
       "       -0.00148308, -0.04572504])"
      ]
     },
     "execution_count": 423,
     "metadata": {},
     "output_type": "execute_result"
    }
   ],
   "source": [
    "ress.ravel()[np.where(np.abs(res2.ravel() - res2fast.ravel())>0.01)[0] ]"
   ]
  },
  {
   "cell_type": "code",
   "execution_count": 425,
   "metadata": {},
   "outputs": [
    {
     "data": {
      "text/plain": [
       "0.005603610475653669"
      ]
     },
     "execution_count": 425,
     "metadata": {},
     "output_type": "execute_result"
    }
   ],
   "source": [
    "np.mean(np.abs(ress))\n"
   ]
  },
  {
   "cell_type": "code",
   "execution_count": null,
   "metadata": {},
   "outputs": [],
   "source": []
  },
  {
   "cell_type": "code",
   "execution_count": null,
   "metadata": {},
   "outputs": [],
   "source": []
  },
  {
   "cell_type": "code",
   "execution_count": null,
   "metadata": {},
   "outputs": [],
   "source": [
    "def compute_gain_mean(res, frame):\n",
    "    gain_frame = np.nanmean(frame ** 2, axis=1) / np.nanmean(res ** 2, axis=1)\n",
    "    gain = np.nanmean(gain_frame)\n",
    "    return gain\n",
    "\n",
    "\n",
    "def compute_gain_max(res, frame):\n",
    "    gain_frame = np.nanmean(frame ** 2, axis=1) / np.nanmean(res ** 2, axis=1)\n",
    "    gain_max = np.nanmax(gain_frame)\n",
    "    return gain_max\n",
    "\n",
    "\n",
    "def compute_gain_min(res, frame):\n",
    "    gain_frame = np.nanmean(frame ** 2, axis=1) / np.nanmean(res ** 2, axis=1)\n",
    "    gain_min= np.nanmin(gain_frame)\n",
    "    return gain_min\n",
    "\n",
    "\n",
    "def compute_gain_var(res, frame):\n",
    "    gain_frame = np.nanmean(frame ** 2, axis=1) / np.nanmean(res ** 2, axis=1)\n",
    "    gain_var = np.nanvar(gain_frame)\n",
    "    return gain_var\n",
    "\n",
    "\n",
    "def compute_res_mean(res):\n",
    "    res_energy_frame = np.nanmean(res ** 2, axis=1)\n",
    "    res_energy = np.nanmean(res_energy_frame)\n",
    "    return res_energy\n",
    "\n",
    "\n",
    "def compute_res_max(res):\n",
    "    max_frame = np.nanmax(res, axis=1)\n",
    "    max_res = np.nanmean(max_frame)\n",
    "    return max_res\n",
    "\n",
    "\n",
    "def compute_res_min(res):\n",
    "    min_frame = np.nanmin(res, axis=1)\n",
    "    min_res = np.nanmean(min_frame) \n",
    "    return min_res\n",
    "\n",
    "\n",
    "def compute_res_var(res):\n",
    "    var_frame = np.nanvar(res, axis=1)\n",
    "    var_res = np.nanmean(var_frame)\n",
    "    return var_res\n"
   ]
  },
  {
   "cell_type": "code",
   "execution_count": null,
   "metadata": {},
   "outputs": [],
   "source": []
  },
  {
   "cell_type": "code",
   "execution_count": null,
   "metadata": {},
   "outputs": [],
   "source": [
    "def compute_features_single(data, lpc_length):\n",
    "\n",
    "    data_dict = {}\n",
    "    \n",
    "    data_dict['lpc_res_mean'] = None\n",
    "    data_dict['lpc_res_max'] = None\n",
    "    data_dict['lpc_res_min'] = None\n",
    "    data_dict['lpc_res_var'] = None\n",
    "    \n",
    "    data_dict['lpc_gain_mean'] = None\n",
    "    data_dict['lpc_gain_max'] = None\n",
    "    data_dict['lpc_gain_min'] = None\n",
    "    data_dict['lpc_gain_var'] = None\n",
    "    \n",
    "    data_dict['ltp_res_mean'] = None\n",
    "    data_dict['ltp_res_max'] = None\n",
    "    data_dict['ltp_res_min'] = None\n",
    "    data_dict['ltp_res_var'] = None\n",
    "    \n",
    "    data_dict['ltp_gain_mean'] = None\n",
    "    data_dict['ltp_gain_max'] = None\n",
    "    data_dict['ltp_gain_min'] = None\n",
    "    data_dict['ltp_gain_var'] = None\n",
    "\n",
    "    res, _ , frames = compute_lpc(data, len_lpc=lpc_length)\n",
    "    \n",
    "    \n",
    "    ltp_res, ltp_frames  = compute_ltp(res.ravel())\n",
    "\n",
    "    lpc_res_mean = compute_res_mean(res)\n",
    "    lpc_res_max = compute_res_max(res)\n",
    "    lpc_res_min = compute_res_min(res)\n",
    "    lpc_res_var = compute_res_var(res)\n",
    "    \n",
    "    lpc_gain_mean = compute_gain_mean(res, frames)\n",
    "    lpc_gain_max = compute_gain_max(res, frames)\n",
    "    lpc_gain_min = compute_gain_min(res, frames)\n",
    "    lpc_gain_var = compute_gain_var(res, frames)\n",
    "    \n",
    "    \n",
    "    ltp_res_mean = compute_res_mean(ltp_res)\n",
    "    ltp_res_max = compute_res_max(ltp_res)\n",
    "    ltp_res_min = compute_res_min(ltp_res)\n",
    "    ltp_res_var = compute_res_var(ltp_res)\n",
    " \n",
    "    ltp_gain_mean = compute_gain_mean(ltp_res, ltp_frames)\n",
    "    ltp_gain_max = compute_gain_max(ltp_res, ltp_frames)\n",
    "    ltp_gain_min = compute_gain_min(ltp_res, ltp_frames)\n",
    "    ltp_gain_var = compute_gain_var(ltp_res, ltp_frames)\n",
    "\n",
    "\n",
    "    # Store data\n",
    "    data_dict['start_voice'] = 0\n",
    "    data_dict['end_voice'] = len(data)\n",
    "    \n",
    "    data_dict['lpc_res_mean'] = lpc_res_mean\n",
    "    data_dict['lpc_res_max'] = lpc_res_max\n",
    "    data_dict['lpc_res_min'] = lpc_res_min\n",
    "    data_dict['lpc_res_var'] = lpc_res_var\n",
    "    \n",
    "    data_dict['lpc_gain_mean'] = lpc_gain_mean\n",
    "    data_dict['lpc_gain_max'] = lpc_gain_max\n",
    "    data_dict['lpc_gain_min'] = lpc_gain_min\n",
    "    data_dict['lpc_gain_var'] = lpc_gain_var\n",
    "\n",
    "    data_dict['ltp_res_mean'] = ltp_res_mean\n",
    "    data_dict['ltp_res_max'] = ltp_res_max\n",
    "    data_dict['ltp_res_min'] = ltp_res_min\n",
    "    data_dict['ltp_res_var'] = ltp_res_var\n",
    "    \n",
    "    data_dict['ltp_gain_mean'] = ltp_gain_mean\n",
    "    data_dict['ltp_gain_max'] = ltp_gain_max\n",
    "    data_dict['ltp_gain_min'] = ltp_gain_min\n",
    "    data_dict['ltp_gain_var'] = ltp_gain_var\n",
    "    \n",
    "    return data_dict"
   ]
  },
  {
   "cell_type": "code",
   "execution_count": null,
   "metadata": {},
   "outputs": [],
   "source": []
  },
  {
   "cell_type": "code",
   "execution_count": null,
   "metadata": {},
   "outputs": [],
   "source": [
    "def compute_features_single_voiced(data, min_length_sec, lpc_length):\n",
    "\n",
    "\n",
    "    segments = run_vad(data)\n",
    "    # Check if at least one voiced segment is present\n",
    "    voiced_segments = [d for d in segments if\n",
    "                       d['is_speech'] is True and d['stop'] - d['start'] >= min_length_sec * samplerate]\n",
    "\n",
    "    # Init data\n",
    "    data_dict = {}\n",
    "    \n",
    "    data_dict['lpc_res_mean'] = None\n",
    "    data_dict['lpc_res_max'] = None\n",
    "    data_dict['lpc_res_min'] = None\n",
    "    data_dict['lpc_res_var'] = None\n",
    "    \n",
    "    data_dict['lpc_gain_mean'] = None\n",
    "    data_dict['lpc_gain_max'] = None\n",
    "    data_dict['lpc_gain_min'] = None\n",
    "    data_dict['lpc_gain_var'] = None\n",
    "    \n",
    "    data_dict['ltp_res_mean'] = None\n",
    "    data_dict['ltp_res_max'] = None\n",
    "    data_dict['ltp_res_min'] = None\n",
    "    data_dict['ltp_res_var'] = None\n",
    "    \n",
    "    data_dict['ltp_gain_mean'] = None\n",
    "    data_dict['ltp_gain_max'] = None\n",
    "    data_dict['ltp_gain_min'] = None\n",
    "    data_dict['ltp_gain_var'] = None\n",
    "\n",
    "    \n",
    "    if voiced_segments == []:\n",
    "        return data_dict\n",
    "    else:\n",
    "        #  Segment\n",
    "        voiced = data[voiced_segments[0]['start']: voiced_segments[0]['stop']]\n",
    "        \n",
    "        start = time.time()\n",
    "        res, _, frames = compute_lpc(voiced, len_lpc=lpc_length)\n",
    "        print(\"LPC execution time is \" + str(time.time() - start))\n",
    "        \n",
    "        start = time.time()\n",
    "        ltp_res, ltp_frames  = compute_ltp(res.ravel())\n",
    "        print(\"LTP execution time is \" + str(time.time() - start))\n",
    "\n",
    "\n",
    "        lpc_res_mean = compute_res_mean(res)\n",
    "        lpc_res_max = compute_res_max(res)\n",
    "        lpc_res_min = compute_res_min(res)\n",
    "        lpc_res_var = compute_res_var(res)\n",
    "\n",
    "        lpc_gain_mean = compute_gain_mean(res, frames)\n",
    "        lpc_gain_max = compute_gain_max(res, frames)\n",
    "        lpc_gain_min = compute_gain_min(res, frames)\n",
    "        lpc_gain_var = compute_gain_var(res, frames)\n",
    "\n",
    "        ltp_res_mean = compute_res_mean(ltp_res)\n",
    "        ltp_res_max = compute_res_max(ltp_res)\n",
    "        ltp_res_min = compute_res_min(ltp_res)\n",
    "        ltp_res_var = compute_res_var(ltp_res)\n",
    "\n",
    "        ltp_gain_mean = compute_gain_mean(ltp_res, ltp_frames)\n",
    "        ltp_gain_max = compute_gain_max(ltp_res, ltp_frames)\n",
    "        ltp_gain_min = compute_gain_min(ltp_res, ltp_frames)\n",
    "        ltp_gain_var = compute_gain_var(ltp_res, ltp_frames)\n",
    "\n",
    "        # Store data\n",
    "        data_dict['start_voice'] = voiced_segments[0]['start']\n",
    "        data_dict['end_voice'] = voiced_segments[0]['stop']\n",
    "        \n",
    "        data_dict['lpc_res_mean'] = lpc_res_mean\n",
    "        data_dict['lpc_res_max'] = lpc_res_max\n",
    "        data_dict['lpc_res_min'] = lpc_res_min\n",
    "        data_dict['lpc_res_var'] = lpc_res_var\n",
    "\n",
    "        data_dict['lpc_gain_mean'] = lpc_gain_mean\n",
    "        data_dict['lpc_gain_max'] = lpc_gain_max\n",
    "        data_dict['lpc_gain_min'] = lpc_gain_min\n",
    "        data_dict['lpc_gain_var'] = lpc_gain_var\n",
    "\n",
    "        data_dict['ltp_res_mean'] = ltp_res_mean\n",
    "        data_dict['ltp_res_max'] = ltp_res_max\n",
    "        data_dict['ltp_res_min'] = ltp_res_min\n",
    "        data_dict['ltp_res_var'] = ltp_res_var\n",
    "\n",
    "        data_dict['ltp_gain_mean'] = ltp_gain_mean\n",
    "        data_dict['ltp_gain_max'] = ltp_gain_max\n",
    "        data_dict['ltp_gain_min'] = ltp_gain_min\n",
    "        data_dict['ltp_gain_var'] = ltp_gain_var        \n",
    "        \n",
    "    return data_dict\n",
    "\n",
    "\n"
   ]
  },
  {
   "cell_type": "code",
   "execution_count": null,
   "metadata": {},
   "outputs": [],
   "source": [
    "audio_folder = '/nas/home/cborrelli/bot_speech/notebook/audio/bonafide' \n",
    "audio_filename = 'LA_T_1011221.flac'\n",
    "data, samplerate = sf.read(os.path.join(audio_folder, audio_filename))\n",
    "\n"
   ]
  },
  {
   "cell_type": "code",
   "execution_count": null,
   "metadata": {},
   "outputs": [],
   "source": [
    "sample_data = [f for f in os.listdir(audio_folder) if f.endswith('.flac')]"
   ]
  },
  {
   "cell_type": "code",
   "execution_count": null,
   "metadata": {},
   "outputs": [],
   "source": []
  },
  {
   "cell_type": "code",
   "execution_count": null,
   "metadata": {},
   "outputs": [],
   "source": [
    "l = 2\n",
    "for audio_filename in sample_data[:3]:\n",
    "    data, samplerate = sf.read(os.path.join(audio_folder, audio_filename))\n",
    "    compute_features_single(data, lpc_length=l)\n",
    "    compute_features_single_voiced(data, lpc_length=l, min_length_sec = 1)"
   ]
  },
  {
   "cell_type": "code",
   "execution_count": null,
   "metadata": {
    "scrolled": false
   },
   "outputs": [],
   "source": [
    "for feat in zip(a,b):\n",
    "    print(feat[0])\n",
    "    print(a[feat[0]])\n",
    "    print(b[feat[1]])\n",
    "    "
   ]
  },
  {
   "cell_type": "code",
   "execution_count": null,
   "metadata": {},
   "outputs": [],
   "source": []
  },
  {
   "cell_type": "code",
   "execution_count": null,
   "metadata": {},
   "outputs": [],
   "source": []
  },
  {
   "cell_type": "code",
   "execution_count": null,
   "metadata": {},
   "outputs": [],
   "source": []
  },
  {
   "cell_type": "code",
   "execution_count": null,
   "metadata": {},
   "outputs": [],
   "source": [
    "audio_folder = '/nas/home/cborrelli/bot_speech/notebook/audio/bonafide' \n",
    "audio_filename = 'LA_T_1011221.flac'\n",
    "data, samplerate = sf.read(os.path.join(audio_folder, audio_filename))\n",
    "\n",
    "a = compute_features_single(data, lpc_length=10)"
   ]
  }
 ],
 "metadata": {
  "kernelspec": {
   "display_name": "Python 3",
   "language": "python",
   "name": "python3"
  },
  "language_info": {
   "codemirror_mode": {
    "name": "ipython",
    "version": 3
   },
   "file_extension": ".py",
   "mimetype": "text/x-python",
   "name": "python",
   "nbconvert_exporter": "python",
   "pygments_lexer": "ipython3",
   "version": "3.7.3"
  }
 },
 "nbformat": 4,
 "nbformat_minor": 2
}
