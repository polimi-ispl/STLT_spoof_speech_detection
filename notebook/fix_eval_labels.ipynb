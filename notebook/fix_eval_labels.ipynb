{
 "cells": [
  {
   "cell_type": "code",
   "execution_count": 36,
   "metadata": {},
   "outputs": [],
   "source": [
    "import pandas as pd\n",
    "import os\n",
    "import numpy as np\n",
    "import itertools\n",
    "import pickle\n",
    "import matplotlib.pyplot as plt"
   ]
  },
  {
   "cell_type": "code",
   "execution_count": 37,
   "metadata": {},
   "outputs": [],
   "source": [
    "unknown_number = 2\n",
    "unknown_label = 7\n",
    "feature_root_path = '/nas/home/cborrelli/bot_speech/features'\n",
    "new_result_root_path = '/nas/home/cborrelli/bot_speech/results/open_set_new'\n",
    "result_root_path = '/nas/home/cborrelli/bot_speech/results/open_set'\n",
    "\n",
    "selected_features = ['lpc', 'bicoh', 'unet']\n",
    "\n",
    "number_lpc_order = 49\n",
    "stop_lpc_order = 50\n",
    "\n",
    "normalizers_keys = [\"minmax\", \"zscore\", \"l2\"]\n",
    "classifiers_keys = [\"svm\", \"rf\"]\n",
    "\n",
    "nfft_list = [128, 256, 512]\n",
    "hop_size_list = [64, 128, 256] \n",
    "\n",
    "multiclass_list = ['A01', 'A02', 'A03', 'A04', 'A05', 'A06']\n"
   ]
  },
  {
   "cell_type": "code",
   "execution_count": 38,
   "metadata": {},
   "outputs": [],
   "source": [
    "def load_features(selected_features, number_lpc_order, stop_lpc_order, nfft, hop_size):\n",
    "    bicoh_train_feat_path = os.path.join(\n",
    "        feature_root_path,\n",
    "        'bicoherences/dataframes/train_bicoh_stats_nfft_{}_hop_size_{}.pkl'.format(nfft, hop_size))\n",
    "    lpc_train_feat_path = os.path.join(feature_root_path, 'lpc/dataframe/train.pkl')\n",
    "    unet_train_feat_path = os.path.join(feature_root_path, 'unet/train_nfft_{}_hop_size_{}.pkl'.format(nfft, hop_size))\n",
    "\n",
    "    bicoh_dev_feat_path = os.path.join(\n",
    "        feature_root_path,\n",
    "        'bicoherences/dataframes/dev_bicoh_stats_nfft_{}_hop_size_{}.pkl'.format(nfft, hop_size))\n",
    "    lpc_dev_feat_path = os.path.join(feature_root_path, 'lpc/dataframe/dev.pkl')\n",
    "    unet_dev_feat_path = os.path.join(feature_root_path, 'unet/dev_nfft_{}_hop_size_{}.pkl'.format(nfft, hop_size))\n",
    "\n",
    "    bicoh_eval_feat_path = os.path.join(\n",
    "        feature_root_path,\n",
    "        'bicoherences/dataframes/eval_bicoh_stats_nfft_{}_hop_size_{}.pkl'.format(\n",
    "            nfft, hop_size))\n",
    "    lpc_eval_feat_path = os.path.join(feature_root_path, 'lpc/dataframe/eval.pkl')\n",
    "    unet_eval_feat_path = os.path.join(feature_root_path, 'unet/eval_nfft_{}_hop_size_{}.pkl'.format(nfft, hop_size))\n",
    "\n",
    "    lpc_linspace = np.linspace(start=stop_lpc_order - number_lpc_order, stop=stop_lpc_order, dtype=int)\n",
    "\n",
    "    lpc_selected_orders = []\n",
    "    for l in lpc_linspace:\n",
    "        lpc_selected_orders.append(str(l))\n",
    "\n",
    "    lpc_selected_orders = tuple(lpc_selected_orders)\n",
    "\n",
    "    train_features = pd.DataFrame()\n",
    "    dev_features = pd.DataFrame()\n",
    "    eval_features = pd.DataFrame()\n",
    "\n",
    "    for feat in selected_features:\n",
    "        if feat == 'lpc':\n",
    "            lpc_feat_train = pd.read_pickle(lpc_train_feat_path)\n",
    "            lpc_feat_train.set_index('audio_filename', inplace=True)\n",
    "\n",
    "            lpc_feat_dev = pd.read_pickle(lpc_dev_feat_path)\n",
    "            lpc_feat_dev.set_index('audio_filename', inplace=True)\n",
    "\n",
    "            lpc_feat_eval = pd.read_pickle(lpc_eval_feat_path)\n",
    "            lpc_feat_eval.set_index('audio_filename', inplace=True)\n",
    "\n",
    "            drop_list = [a for a in lpc_feat_train.columns if a.startswith(('lpc', 'ltp'))\n",
    "                         and not a.endswith(lpc_selected_orders)]\n",
    "\n",
    "            lpc_feat_train = lpc_feat_train.drop(drop_list, axis=1)\n",
    "            lpc_feat_dev = lpc_feat_dev.drop(drop_list, axis=1)\n",
    "            lpc_feat_eval = lpc_feat_eval.drop(drop_list, axis=1)\n",
    "\n",
    "            if train_features.empty:\n",
    "                train_features = lpc_feat_train.copy()\n",
    "\n",
    "                dev_features = lpc_feat_dev.copy()\n",
    "\n",
    "                eval_features = lpc_feat_eval.copy()\n",
    "            else:\n",
    "                train_features = pd.concat([train_features, lpc_feat_train], axis=1)\n",
    "                dev_features = pd.concat([dev_features, lpc_feat_dev], axis=1)\n",
    "                eval_features = pd.concat([eval_features, lpc_feat_eval], axis=1)\n",
    "\n",
    "        elif feat == 'bicoh':\n",
    "            bicoh_feat_train = pd.read_pickle(bicoh_train_feat_path)\n",
    "            bicoh_feat_train.set_index('audio_filename', inplace=True)\n",
    "\n",
    "            bicoh_feat_dev = pd.read_pickle(bicoh_dev_feat_path)\n",
    "            bicoh_feat_dev.set_index('audio_filename', inplace=True)\n",
    "\n",
    "            bicoh_feat_eval = pd.read_pickle(bicoh_eval_feat_path)\n",
    "            bicoh_feat_eval.set_index('audio_filename', inplace=True)\n",
    "\n",
    "            if train_features.empty:\n",
    "                train_features = bicoh_feat_train.copy()\n",
    "\n",
    "                dev_features = bicoh_feat_dev.copy()\n",
    "\n",
    "                eval_features = bicoh_feat_eval.copy()\n",
    "            else:\n",
    "                train_features = pd.concat([train_features, bicoh_feat_train], axis=1)\n",
    "                dev_features = pd.concat([dev_features, bicoh_feat_dev], axis=1)\n",
    "                eval_features = pd.concat([eval_features, bicoh_feat_eval], axis=1)\n",
    "\n",
    "        elif feat == 'unet':\n",
    "            unet_feat_train = pd.read_pickle(unet_train_feat_path)\n",
    "            unet_feat_train.set_index('audio_filename', inplace=True)\n",
    "\n",
    "            unet_feat_dev = pd.read_pickle(unet_dev_feat_path)\n",
    "            unet_feat_dev.set_index('audio_filename', inplace=True)\n",
    "\n",
    "            unet_feat_eval = pd.read_pickle(unet_eval_feat_path)\n",
    "            unet_feat_eval.set_index('audio_filename', inplace=True)\n",
    "\n",
    "            if train_features.empty:\n",
    "                train_features = unet_feat_train.copy()\n",
    "\n",
    "                dev_features = unet_feat_dev.copy()\n",
    "\n",
    "                eval_features = unet_feat_eval.copy()\n",
    "            else:\n",
    "                train_features = pd.concat([train_features, unet_feat_train], axis=1)\n",
    "                dev_features = pd.concat([dev_features, unet_feat_dev], axis=1)\n",
    "                eval_features = pd.concat([eval_features, unet_feat_eval], axis=1)\n",
    "    # remove NaN from dataframes\n",
    "    train_features.dropna(inplace=True, axis=0)\n",
    "    dev_features.dropna(inplace=True, axis=0)\n",
    "    eval_features.dropna(inplace=True, axis=0)\n",
    "\n",
    "    # remove duplicates from dataframes\n",
    "    train_features = train_features.loc[:, ~train_features.columns.duplicated()]\n",
    "    dev_features = dev_features.loc[:, ~dev_features.columns.duplicated()]\n",
    "    eval_features = eval_features.loc[:, ~eval_features.columns.duplicated()]\n",
    "\n",
    "    # reset index after aggregating by audio filename\n",
    "    train_features.reset_index(inplace=True)\n",
    "    dev_features.reset_index(inplace=True)\n",
    "    eval_features.reset_index(inplace=True)\n",
    "\n",
    "    # drop irrelevant columns for classification\n",
    "    train_features.drop(['audio_filename', 'end_voice', 'start_voice', 'speaker_id', 'label'], axis=1, inplace=True)\n",
    "    dev_features.drop(['audio_filename', 'end_voice', 'start_voice', 'speaker_id', 'label'], axis=1, inplace=True)\n",
    "    eval_features.drop(['audio_filename', 'end_voice', 'start_voice', 'speaker_id', 'label'], axis=1, inplace=True)\n",
    "\n",
    "    return train_features, dev_features, eval_features"
   ]
  },
  {
   "cell_type": "code",
   "execution_count": 39,
   "metadata": {},
   "outputs": [],
   "source": [
    "def retrieve_original_label(df_eval):\n",
    "    eval_multiclass_dict = {'-': 0, 'A07': 7, 'A08': 8, 'A09': 9,\n",
    "                             'A10': 10, 'A11': 11, 'A12': 12,\n",
    "                             'A13': 13, 'A14': 14, 'A15': 15,\n",
    "                             'A16': 16, 'A17': 17, 'A18': 18,\n",
    "                             'A19': 19}\n",
    "\n",
    "    \n",
    "\n",
    "    y_eval = df_eval.loc[:, 'system_id'].values\n",
    "    y_eval = np.array([eval_multiclass_dict[a] for a in y_eval])\n",
    "\n",
    "    return y_eval"
   ]
  },
  {
   "cell_type": "code",
   "execution_count": null,
   "metadata": {},
   "outputs": [],
   "source": []
  },
  {
   "cell_type": "code",
   "execution_count": 40,
   "metadata": {},
   "outputs": [],
   "source": [
    "for fft_params in zip(nfft_list, hop_size_list):\n",
    "    nfft = fft_params[0]\n",
    "    hop_size = fft_params[1]\n",
    "    _, _, df_eval = load_features(selected_features=selected_features,\n",
    "                                                  number_lpc_order=number_lpc_order,\n",
    "                                                  stop_lpc_order=stop_lpc_order,\n",
    "                                                  nfft=nfft,\n",
    "                                                  hop_size=hop_size)\n",
    "    for c in classifiers_keys:\n",
    "        for n in normalizers_keys:\n",
    "            unknown_combinations = itertools.combinations(multiclass_list, unknown_number)\n",
    "            for u in unknown_combinations:\n",
    "                result_name = \"class_{}_norm_{}_unknown_{}-{}_nfft_{}_hop-size_{}_numberlpcorder_{}_stoplpcorder_{}\".format(\n",
    "                        c, n, u[0], u[1], nfft, hop_size,\n",
    "                        number_lpc_order,\n",
    "                        stop_lpc_order)\n",
    "\n",
    "                result_name = result_name + \"_selected_features_\" + \"-\".join(\n",
    "                    s for s in selected_features) + \".npy\"\n",
    "\n",
    "                result_filename = os.path.join(result_root_path, result_name)\n",
    "\n",
    "                if os.path.exists(result_filename):\n",
    "                    result_dict = pickle.load(open(result_filename, \"rb\" ))\n",
    "\n",
    "                    aa = retrieve_original_label(df_eval)\n",
    "\n",
    "                    #result_dict['y_eval'] = aa\n",
    "                    result_dict['y_eval_orig'] = aa\n",
    "\n",
    "                    with open(result_filename, 'wb') as handle:\n",
    "                        pickle.dump(result_dict, handle, protocol=pickle.HIGHEST_PROTOCOL)\n",
    "           \n",
    "                        "
   ]
  },
  {
   "cell_type": "code",
   "execution_count": 41,
   "metadata": {},
   "outputs": [
    {
     "data": {
      "text/plain": [
       "{'y_train': array([0, 0, 0, ..., 7, 7, 7]),\n",
       " 'y_predict_train': array([0, 0, 0, ..., 7, 7, 7]),\n",
       " 'y_dev': array([0, 0, 0, ..., 7, 7, 7]),\n",
       " 'y_predict_dev': array([7, 7, 4, ..., 7, 7, 7]),\n",
       " 'y_eval': array([7, 7, 7, ..., 7, 0, 7]),\n",
       " 'y_predict_eval': array([1, 4, 7, ..., 3, 7, 7]),\n",
       " 'best_model': {'class__max_depth': None,\n",
       "  'class__min_samples_leaf': 1,\n",
       "  'class__min_samples_split': 2,\n",
       "  'class__n_estimators': 1000},\n",
       " 'y_eval_orig': array([11, 14, 16, ..., 16,  0, 19])}"
      ]
     },
     "execution_count": 41,
     "metadata": {},
     "output_type": "execute_result"
    }
   ],
   "source": [
    "result_dict"
   ]
  },
  {
   "cell_type": "code",
   "execution_count": 31,
   "metadata": {},
   "outputs": [],
   "source": []
  },
  {
   "cell_type": "code",
   "execution_count": 32,
   "metadata": {},
   "outputs": [
    {
     "data": {
      "text/plain": [
       "22"
      ]
     },
     "execution_count": 32,
     "metadata": {},
     "output_type": "execute_result"
    }
   ],
   "source": [
    "computed"
   ]
  },
  {
   "cell_type": "code",
   "execution_count": 33,
   "metadata": {},
   "outputs": [
    {
     "data": {
      "text/plain": [
       "45"
      ]
     },
     "execution_count": 33,
     "metadata": {},
     "output_type": "execute_result"
    }
   ],
   "source": [
    "total"
   ]
  },
  {
   "cell_type": "code",
   "execution_count": null,
   "metadata": {},
   "outputs": [],
   "source": []
  }
 ],
 "metadata": {
  "kernelspec": {
   "display_name": "Python 3",
   "language": "python",
   "name": "python3"
  },
  "language_info": {
   "codemirror_mode": {
    "name": "ipython",
    "version": 3
   },
   "file_extension": ".py",
   "mimetype": "text/x-python",
   "name": "python",
   "nbconvert_exporter": "python",
   "pygments_lexer": "ipython3",
   "version": "3.7.3"
  }
 },
 "nbformat": 4,
 "nbformat_minor": 4
}
