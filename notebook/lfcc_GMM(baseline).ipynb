{
 "cells": [
  {
   "cell_type": "code",
   "execution_count": 38,
   "metadata": {},
   "outputs": [],
   "source": [
    "import scipy as sp\n",
    "from scipy.signal import lfilter\n",
    "import numpy as np\n",
    "import soundfile as sf\n",
    "import librosa\n",
    "import matplotlib.pyplot as plt"
   ]
  },
  {
   "cell_type": "code",
   "execution_count": 101,
   "metadata": {},
   "outputs": [],
   "source": [
    "def deltas(x, w=9):\n",
    "    hlen = int(np.floor(w/2))\n",
    "    w = 2*hlen + 1\n",
    "    win = np.arange(hlen, -hlen - 1, -1)\n",
    "    xx = np.tile(x[:, 0], (1, hlen))\n",
    "    \n",
    "    #xx = np.concatenate([np.tile(x[:, 0], (1, hlen)), x, np.tile(x[:, -1], (1, hlen))], axis=1)\n",
    "    print(x.shape)\n",
    "\n",
    "\n",
    "def triangular_membership_function(x, a, b, m):\n",
    "    result = np.zeros((x.shape[0]))\n",
    "    for i in np.arange(x.shape[0]):\n",
    "        if x[i] <= a:\n",
    "            result[i] = 0\n",
    "        elif x[i] > a and x[i] <= m:\n",
    "            result[i] = (x[i] - a) / (m - a)\n",
    "        elif x[i] > m and x[i] < b:\n",
    "            result[i] = (b - x[i]) / (b - m)\n",
    "        else:\n",
    "            result[i] = 0\n",
    "    return result\n",
    "            \n",
    "    \n",
    "\n",
    "\n",
    "def compute_lfcc(audio, fs, window_length=20, nfft=512, n_filter=20):\n",
    "    audio = lfilter([1, -0.97], 1, audio)\n",
    "    \n",
    "    \n",
    "    X = np.abs(librosa.stft(\n",
    "        audio, \n",
    "        window = 'hamming',\n",
    "        n_fft = nfft,\n",
    "        win_length = window_length,\n",
    "        hop_length = window_length // 2)\n",
    "    )*2\n",
    "\n",
    "    f = fs/2 * np.linspace(0, 1, nfft//2 + 1)\n",
    "    fil_bandwidth_sf = np.linspace(np.min(f), np.max(f), n_filter + 2)\n",
    "    \n",
    "    filterbank = np.zeros((nfft//2 + 1, n_filter))\n",
    "    \n",
    "    for i in range(n_filter):\n",
    "        filterbank[:, i] = triangular_membership_function(f, fil_bandwidth_sf[i], \n",
    "                                                          fil_bandwidth_sf[i+1], fil_bandwidth_sf[i+2])\n",
    "    \n",
    "    filbanksum = np.dot(X.T, filterbank)\n",
    "\n",
    "    log_filbanksum = np.log10(filbanksum + 1e-16)\n",
    "    lfcc = sp.fftpack.dct(log_filbanksum, axis=0, norm='ortho')[1:n_filter]\n",
    "    \n",
    "    stat = lfcc.T\n",
    "    "
   ]
  },
  {
   "cell_type": "code",
   "execution_count": 99,
   "metadata": {},
   "outputs": [],
   "source": [
    "audio, fs = sf.read('audio/bonafide/LA_T_1011221.flac')\n",
    "lfcc = compute_lfcc(audio, fs)"
   ]
  },
  {
   "cell_type": "code",
   "execution_count": 102,
   "metadata": {},
   "outputs": [
    {
     "name": "stdout",
     "output_type": "stream",
     "text": [
      "(10, 10)\n"
     ]
    }
   ],
   "source": [
    "deltas(np.identity(10))"
   ]
  },
  {
   "cell_type": "code",
   "execution_count": 90,
   "metadata": {},
   "outputs": [
    {
     "data": {
      "text/plain": [
       "array([[1., 0., 0., 0., 0., 0., 0., 0., 0., 0.],\n",
       "       [0., 1., 0., 0., 0., 0., 0., 0., 0., 0.],\n",
       "       [0., 0., 1., 0., 0., 0., 0., 0., 0., 0.],\n",
       "       [0., 0., 0., 1., 0., 0., 0., 0., 0., 0.],\n",
       "       [0., 0., 0., 0., 1., 0., 0., 0., 0., 0.],\n",
       "       [0., 0., 0., 0., 0., 1., 0., 0., 0., 0.],\n",
       "       [0., 0., 0., 0., 0., 0., 1., 0., 0., 0.],\n",
       "       [0., 0., 0., 0., 0., 0., 0., 1., 0., 0.],\n",
       "       [0., 0., 0., 0., 0., 0., 0., 0., 1., 0.],\n",
       "       [0., 0., 0., 0., 0., 0., 0., 0., 0., 1.]])"
      ]
     },
     "execution_count": 90,
     "metadata": {},
     "output_type": "execute_result"
    }
   ],
   "source": [
    "np.identity(10)"
   ]
  },
  {
   "cell_type": "code",
   "execution_count": 82,
   "metadata": {},
   "outputs": [],
   "source": [
    "a= np.arange(5,-6, -1)"
   ]
  },
  {
   "cell_type": "code",
   "execution_count": 83,
   "metadata": {},
   "outputs": [
    {
     "data": {
      "text/plain": [
       "-5"
      ]
     },
     "execution_count": 83,
     "metadata": {},
     "output_type": "execute_result"
    }
   ],
   "source": [
    "a[-1]"
   ]
  },
  {
   "cell_type": "code",
   "execution_count": null,
   "metadata": {},
   "outputs": [],
   "source": []
  }
 ],
 "metadata": {
  "kernelspec": {
   "display_name": "Python 3",
   "language": "python",
   "name": "python3"
  },
  "language_info": {
   "codemirror_mode": {
    "name": "ipython",
    "version": 3
   },
   "file_extension": ".py",
   "mimetype": "text/x-python",
   "name": "python",
   "nbconvert_exporter": "python",
   "pygments_lexer": "ipython3",
   "version": "3.7.3"
  }
 },
 "nbformat": 4,
 "nbformat_minor": 4
}
