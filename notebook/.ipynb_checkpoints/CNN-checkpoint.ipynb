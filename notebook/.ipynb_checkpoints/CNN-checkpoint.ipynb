{
 "cells": [
  {
   "cell_type": "code",
   "execution_count": 1,
   "metadata": {},
   "outputs": [],
   "source": [
    "from __future__ import print_function\n",
    "import tensorflow.keras\n",
    "from tensorflow.keras.models import Sequential\n",
    "from tensorflow.keras.layers import Dense, Dropout, Flatten\n",
    "from tensorflow.keras.layers import Conv2D, MaxPooling2D\n",
    "from tensorflow.keras import backend as K\n",
    "import matplotlib.pyplot as plt\n",
    "import pandas as pd\n",
    "import numpy as np\n",
    "import sys\n",
    "\n",
    "\n",
    "from datetime import datetime\n",
    "%load_ext tensorboard\n"
   ]
  },
  {
   "cell_type": "markdown",
   "metadata": {},
   "source": [
    "### Extract train features"
   ]
  },
  {
   "cell_type": "code",
   "execution_count": 2,
   "metadata": {},
   "outputs": [],
   "source": [
    "X_train_bonafide_list = []\n",
    "X_train_spoof_list = []\n",
    "max_lpc_order = 50\n",
    "lpc_lengths = np.arange(1, max_lpc_order + 1)\n",
    "\n",
    "\n",
    "for l in lpc_lengths:\n",
    "    train_features = pd.read_pickle('/nas/home/cborrelli/bot_speech/features/train_LPC_' + str(l) +'.pkl')\n",
    "    #train_features.drop('coeff', axis=1, inplace=True)\n",
    "    train_features.dropna(inplace=True)\n",
    "    \n",
    "    train_bonafide_features = train_features[train_features['label']=='bonafide']\n",
    "    train_spoof_features = train_features[train_features['label']=='spoof']\n",
    "    \n",
    "    if l==1:\n",
    "        train_spoof_features = train_features[train_features['label']=='spoof'].sample(\n",
    "            n=train_bonafide_features.shape[0])\n",
    "        selected_files = train_spoof_features['audio_filename']\n",
    "    else:\n",
    "        train_spoof_features = train_spoof_features[train_spoof_features['audio_filename'].isin(selected_files)]\n",
    "    X_train_bonafide_list.append(np.array(train_bonafide_features['lpc_res_mean']).reshape((-1, 1)))\n",
    "    X_train_bonafide_list.append(np.array(train_bonafide_features['lpc_res_max']).reshape((-1, 1)))\n",
    "    X_train_bonafide_list.append(np.array(train_bonafide_features['lpc_res_min']).reshape((-1, 1)))\n",
    "    X_train_bonafide_list.append(np.array(train_bonafide_features['lpc_res_var']).reshape((-1, 1)))\n",
    "    \n",
    "    X_train_bonafide_list.append(np.array(train_bonafide_features['lpc_gain_max']).reshape((-1, 1)))\n",
    "    X_train_bonafide_list.append(np.array(train_bonafide_features['lpc_gain_min']).reshape((-1, 1)))\n",
    "    X_train_bonafide_list.append(np.array(train_bonafide_features['lpc_gain_mean']).reshape((-1, 1)))\n",
    "    X_train_bonafide_list.append(np.array(train_bonafide_features['lpc_gain_var']).reshape((-1, 1)))\n",
    "    \n",
    "    X_train_bonafide_list.append(np.array(train_bonafide_features['ltp_res_mean']).reshape((-1, 1)))\n",
    "    X_train_bonafide_list.append(np.array(train_bonafide_features['ltp_res_max']).reshape((-1, 1)))\n",
    "    X_train_bonafide_list.append(np.array(train_bonafide_features['ltp_res_min']).reshape((-1, 1)))\n",
    "    X_train_bonafide_list.append(np.array(train_bonafide_features['ltp_res_var']).reshape((-1, 1)))\n",
    "    \n",
    "    X_train_bonafide_list.append(np.array(train_bonafide_features['ltp_gain_max']).reshape((-1, 1)))\n",
    "    X_train_bonafide_list.append(np.array(train_bonafide_features['ltp_gain_min']).reshape((-1, 1)))\n",
    "    X_train_bonafide_list.append(np.array(train_bonafide_features['ltp_gain_mean']).reshape((-1, 1)))\n",
    "    X_train_bonafide_list.append(np.array(train_bonafide_features['ltp_gain_var']).reshape((-1, 1)))\n",
    "\n",
    "\n",
    "    X_train_spoof_list.append(np.array(train_spoof_features['lpc_res_mean']).reshape((-1, 1)))\n",
    "    X_train_spoof_list.append(np.array(train_spoof_features['lpc_res_max']).reshape((-1, 1)))\n",
    "    X_train_spoof_list.append(np.array(train_spoof_features['lpc_res_min']).reshape((-1, 1)))\n",
    "    X_train_spoof_list.append(np.array(train_spoof_features['lpc_res_var']).reshape((-1, 1)))\n",
    "    \n",
    "    X_train_spoof_list.append(np.array(train_spoof_features['lpc_gain_max']).reshape((-1, 1)))\n",
    "    X_train_spoof_list.append(np.array(train_spoof_features['lpc_gain_min']).reshape((-1, 1)))\n",
    "    X_train_spoof_list.append(np.array(train_spoof_features['lpc_gain_mean']).reshape((-1, 1)))\n",
    "    X_train_spoof_list.append(np.array(train_spoof_features['lpc_gain_var']).reshape((-1, 1)))\n",
    "    \n",
    "    X_train_spoof_list.append(np.array(train_spoof_features['ltp_res_mean']).reshape((-1, 1)))\n",
    "    X_train_spoof_list.append(np.array(train_spoof_features['ltp_res_max']).reshape((-1, 1)))\n",
    "    X_train_spoof_list.append(np.array(train_spoof_features['ltp_res_min']).reshape((-1, 1)))\n",
    "    X_train_spoof_list.append(np.array(train_spoof_features['ltp_res_var']).reshape((-1, 1)))\n",
    "    \n",
    "    X_train_spoof_list.append(np.array(train_spoof_features['ltp_gain_max']).reshape((-1, 1)))\n",
    "    X_train_spoof_list.append(np.array(train_spoof_features['ltp_gain_min']).reshape((-1, 1)))\n",
    "    X_train_spoof_list.append(np.array(train_spoof_features['ltp_gain_mean']).reshape((-1, 1)))\n",
    "    X_train_spoof_list.append(np.array(train_spoof_features['ltp_gain_var']).reshape((-1, 1)))\n",
    "\n",
    "\n",
    "\n"
   ]
  },
  {
   "cell_type": "code",
   "execution_count": 3,
   "metadata": {},
   "outputs": [],
   "source": [
    "X_train_bonafide = np.concatenate(X_train_bonafide_list, axis=1)\n",
    "X_train_spoof = np.concatenate(X_train_spoof_list, axis=1)\n",
    "X_train = np.concatenate((X_train_bonafide, X_train_spoof), axis=0)\n",
    "\n",
    "y_train_bonafide = np.ones((X_train_bonafide.shape[0],))\n",
    "y_train_spoof = np.zeros((X_train_spoof.shape[0],))\n",
    "\n",
    "y_train = np.concatenate((y_train_bonafide, y_train_spoof), axis=0)"
   ]
  },
  {
   "cell_type": "code",
   "execution_count": null,
   "metadata": {},
   "outputs": [],
   "source": []
  },
  {
   "cell_type": "markdown",
   "metadata": {},
   "source": [
    "### Extract dev features"
   ]
  },
  {
   "cell_type": "code",
   "execution_count": 4,
   "metadata": {},
   "outputs": [],
   "source": [
    "X_dev_bonafide_list = []\n",
    "X_dev_spoof_list = []\n",
    "\n",
    "for l in lpc_lengths:\n",
    "    dev_features = pd.read_pickle('/nas/home/cborrelli/bot_speech/features/dev_LPC_' + str(l) +'.pkl')\n",
    "    #dev_features.drop('coeff', axis=1, inplace=True)\n",
    "    dev_features.dropna(inplace=True)  \n",
    "    \n",
    "    dev_bonafide_features = dev_features[dev_features['label']=='bonafide']\n",
    "    dev_spoof_features = dev_features[dev_features['label']=='spoof']\n",
    "    \n",
    "    if l==1:\n",
    "        dev_spoof_features = dev_features[dev_features['label']=='spoof'].sample(n=dev_bonafide_features.shape[0])\n",
    "        selected_files = dev_spoof_features['audio_filename']\n",
    "    else:\n",
    "        dev_spoof_features = dev_spoof_features[dev_spoof_features['audio_filename'].isin(selected_files)]\n",
    "    \n",
    "    X_dev_bonafide_list.append(np.array(dev_bonafide_features['lpc_res_mean']).reshape((-1, 1)))\n",
    "    X_dev_bonafide_list.append(np.array(dev_bonafide_features['lpc_res_max']).reshape((-1, 1)))\n",
    "    X_dev_bonafide_list.append(np.array(dev_bonafide_features['lpc_res_min']).reshape((-1, 1)))\n",
    "    X_dev_bonafide_list.append(np.array(dev_bonafide_features['lpc_res_var']).reshape((-1, 1)))\n",
    "    X_dev_bonafide_list.append(np.array(dev_bonafide_features['lpc_gain_max']).reshape((-1, 1)))\n",
    "    X_dev_bonafide_list.append(np.array(dev_bonafide_features['lpc_gain_min']).reshape((-1, 1)))\n",
    "    X_dev_bonafide_list.append(np.array(dev_bonafide_features['lpc_gain_mean']).reshape((-1, 1)))\n",
    "    X_dev_bonafide_list.append(np.array(dev_bonafide_features['lpc_gain_var']).reshape((-1, 1)))\n",
    "    X_dev_bonafide_list.append(np.array(dev_bonafide_features['ltp_res_mean']).reshape((-1, 1)))\n",
    "    X_dev_bonafide_list.append(np.array(dev_bonafide_features['ltp_res_max']).reshape((-1, 1)))\n",
    "    X_dev_bonafide_list.append(np.array(dev_bonafide_features['ltp_res_min']).reshape((-1, 1)))\n",
    "    X_dev_bonafide_list.append(np.array(dev_bonafide_features['ltp_res_var']).reshape((-1, 1)))\n",
    "    X_dev_bonafide_list.append(np.array(dev_bonafide_features['ltp_gain_max']).reshape((-1, 1)))\n",
    "    X_dev_bonafide_list.append(np.array(dev_bonafide_features['ltp_gain_min']).reshape((-1, 1)))\n",
    "    X_dev_bonafide_list.append(np.array(dev_bonafide_features['ltp_gain_mean']).reshape((-1, 1)))\n",
    "    X_dev_bonafide_list.append(np.array(dev_bonafide_features['ltp_gain_var']).reshape((-1, 1)))\n",
    "    \n",
    "    X_dev_spoof_list.append(np.array(dev_spoof_features['lpc_res_mean']).reshape((-1, 1)))\n",
    "    X_dev_spoof_list.append(np.array(dev_spoof_features['lpc_res_max']).reshape((-1, 1)))\n",
    "    X_dev_spoof_list.append(np.array(dev_spoof_features['lpc_res_min']).reshape((-1, 1)))\n",
    "    X_dev_spoof_list.append(np.array(dev_spoof_features['lpc_res_var']).reshape((-1, 1)))\n",
    "    X_dev_spoof_list.append(np.array(dev_spoof_features['lpc_gain_max']).reshape((-1, 1)))\n",
    "    X_dev_spoof_list.append(np.array(dev_spoof_features['lpc_gain_min']).reshape((-1, 1)))\n",
    "    X_dev_spoof_list.append(np.array(dev_spoof_features['lpc_gain_mean']).reshape((-1, 1)))\n",
    "    X_dev_spoof_list.append(np.array(dev_spoof_features['lpc_gain_var']).reshape((-1, 1)))\n",
    "    X_dev_spoof_list.append(np.array(dev_spoof_features['ltp_res_mean']).reshape((-1, 1)))\n",
    "    X_dev_spoof_list.append(np.array(dev_spoof_features['ltp_res_max']).reshape((-1, 1)))\n",
    "    X_dev_spoof_list.append(np.array(dev_spoof_features['ltp_res_min']).reshape((-1, 1)))\n",
    "    X_dev_spoof_list.append(np.array(dev_spoof_features['ltp_res_var']).reshape((-1, 1)))\n",
    "    X_dev_spoof_list.append(np.array(dev_spoof_features['ltp_gain_max']).reshape((-1, 1)))\n",
    "    X_dev_spoof_list.append(np.array(dev_spoof_features['ltp_gain_min']).reshape((-1, 1)))\n",
    "    X_dev_spoof_list.append(np.array(dev_spoof_features['ltp_gain_mean']).reshape((-1, 1)))\n",
    "    X_dev_spoof_list.append(np.array(dev_spoof_features['ltp_gain_var']).reshape((-1, 1)))"
   ]
  },
  {
   "cell_type": "code",
   "execution_count": 5,
   "metadata": {},
   "outputs": [],
   "source": [
    "X_dev_bonafide = np.concatenate(X_dev_bonafide_list, axis=1)\n",
    "X_dev_spoof = np.concatenate(X_dev_spoof_list, axis=1)\n",
    "X_dev = np.concatenate((X_dev_bonafide, X_dev_spoof), axis=0)\n",
    "\n",
    "y_dev_bonafide = np.ones((X_dev_bonafide.shape[0],))\n",
    "y_dev_spoof = np.zeros((X_dev_spoof.shape[0],))\n",
    "\n",
    "y_dev = np.concatenate((y_dev_bonafide, y_dev_spoof), axis=0)"
   ]
  },
  {
   "cell_type": "code",
   "execution_count": 6,
   "metadata": {},
   "outputs": [],
   "source": [
    "def load_features(dataset, max_lpc_order = 50):\n",
    "    \"\"\"\n",
    "    Load train, dev or eval features from /nas/home/cborrelli/bot_speech/features folder\n",
    "    :param dataset:  can be \"train\", \"dev\" or \"eval\"\n",
    "    :param max_lpc_order: maximum order used in the LPC analysis\n",
    "    :returns: feature matrix and the labels array\n",
    "    \"\"\"\n",
    "    X_bonafide_list = []\n",
    "    X_spoof_list = []\n",
    "    lpc_lengths = np.arange(1, max_lpc_order + 1)\n",
    "\n",
    "    for l in lpc_lengths:\n",
    "        features = pd.read_pickle('/nas/home/cborrelli/bot_speech/features/'+ dataset +'_LPC_' + str(l) + '.pkl')\n",
    "        features.dropna(inplace=True)\n",
    "\n",
    "        bonafide_features = features[features['label'] == 'bonafide']\n",
    "        spoof_features = features[features['label'] == 'spoof']\n",
    "\n",
    "        if l == 1:\n",
    "            spoof_features = features[features['label'] == 'spoof'].sample(\n",
    "                n=bonafide_features.shape[0])\n",
    "            selected_files = spoof_features['audio_filename']\n",
    "        else:\n",
    "            spoof_features = spoof_features[spoof_features['audio_filename'].isin(selected_files)]\n",
    "\n",
    "        X_bonafide_list.append(np.array(bonafide_features['lpc_res_mean']).reshape((-1, 1)))\n",
    "        X_bonafide_list.append(np.array(bonafide_features['lpc_res_max']).reshape((-1, 1)))\n",
    "        X_bonafide_list.append(np.array(bonafide_features['lpc_res_min']).reshape((-1, 1)))\n",
    "        X_bonafide_list.append(np.array(bonafide_features['lpc_res_var']).reshape((-1, 1)))\n",
    "\n",
    "        X_bonafide_list.append(np.array(bonafide_features['lpc_gain_max']).reshape((-1, 1)))\n",
    "        X_bonafide_list.append(np.array(bonafide_features['lpc_gain_min']).reshape((-1, 1)))\n",
    "        X_bonafide_list.append(np.array(bonafide_features['lpc_gain_mean']).reshape((-1, 1)))\n",
    "        X_bonafide_list.append(np.array(bonafide_features['lpc_gain_var']).reshape((-1, 1)))\n",
    "\n",
    "        X_bonafide_list.append(np.array(bonafide_features['ltp_res_mean']).reshape((-1, 1)))\n",
    "        X_bonafide_list.append(np.array(bonafide_features['ltp_res_max']).reshape((-1, 1)))\n",
    "        X_bonafide_list.append(np.array(bonafide_features['ltp_res_min']).reshape((-1, 1)))\n",
    "        X_bonafide_list.append(np.array(bonafide_features['ltp_res_var']).reshape((-1, 1)))\n",
    "\n",
    "        X_bonafide_list.append(np.array(bonafide_features['ltp_gain_max']).reshape((-1, 1)))\n",
    "        X_bonafide_list.append(np.array(bonafide_features['ltp_gain_min']).reshape((-1, 1)))\n",
    "        X_bonafide_list.append(np.array(bonafide_features['ltp_gain_mean']).reshape((-1, 1)))\n",
    "        X_bonafide_list.append(np.array(bonafide_features['ltp_gain_var']).reshape((-1, 1)))\n",
    "\n",
    "        X_spoof_list.append(np.array(spoof_features['lpc_res_mean']).reshape((-1, 1)))\n",
    "        X_spoof_list.append(np.array(spoof_features['lpc_res_max']).reshape((-1, 1)))\n",
    "        X_spoof_list.append(np.array(spoof_features['lpc_res_min']).reshape((-1, 1)))\n",
    "        X_spoof_list.append(np.array(spoof_features['lpc_res_var']).reshape((-1, 1)))\n",
    "\n",
    "        X_spoof_list.append(np.array(spoof_features['lpc_gain_max']).reshape((-1, 1)))\n",
    "        X_spoof_list.append(np.array(spoof_features['lpc_gain_min']).reshape((-1, 1)))\n",
    "        X_spoof_list.append(np.array(spoof_features['lpc_gain_mean']).reshape((-1, 1)))\n",
    "        X_spoof_list.append(np.array(spoof_features['lpc_gain_var']).reshape((-1, 1)))\n",
    "\n",
    "        X_spoof_list.append(np.array(spoof_features['ltp_res_mean']).reshape((-1, 1)))\n",
    "        X_spoof_list.append(np.array(spoof_features['ltp_res_max']).reshape((-1, 1)))\n",
    "        X_spoof_list.append(np.array(spoof_features['ltp_res_min']).reshape((-1, 1)))\n",
    "        X_spoof_list.append(np.array(spoof_features['ltp_res_var']).reshape((-1, 1)))\n",
    "\n",
    "        X_spoof_list.append(np.array(spoof_features['ltp_gain_max']).reshape((-1, 1)))\n",
    "        X_spoof_list.append(np.array(spoof_features['ltp_gain_min']).reshape((-1, 1)))\n",
    "        X_spoof_list.append(np.array(spoof_features['ltp_gain_mean']).reshape((-1, 1)))\n",
    "        X_spoof_list.append(np.array(spoof_features['ltp_gain_var']).reshape((-1, 1)))\n",
    "\n",
    "    X_bonafide = np.concatenate(X_bonafide_list, axis=1)\n",
    "    X_spoof = np.concatenate(X_spoof_list, axis=1)\n",
    "    X = np.concatenate((X_bonafide, X_spoof), axis=0)\n",
    "\n",
    "    y_bonafide = np.ones((X_bonafide.shape[0],))\n",
    "    y_spoof = np.zeros((X_spoof.shape[0],))\n",
    "\n",
    "    y = np.concatenate((y_bonafide, y_spoof), axis=0)\n",
    "\n",
    "    return X, y"
   ]
  },
  {
   "cell_type": "code",
   "execution_count": 7,
   "metadata": {},
   "outputs": [
    {
     "data": {
      "text/plain": [
       "(array([[ 0.00219729,  0.07756035, -0.10167341, ...,  1.06835803,\n",
       "          1.26645163,  0.13137526],\n",
       "        [ 0.00218541,  0.05919245, -0.08369585, ...,  1.04170821,\n",
       "          1.22022052,  0.06855069],\n",
       "        [ 0.00217857,  0.07167769, -0.09272506, ...,  1.07978179,\n",
       "          1.24696034,  0.13072254],\n",
       "        ...,\n",
       "        [ 0.00153933,  0.09240214, -0.08909928, ...,  1.06779537,\n",
       "          1.23711053,  0.05616819],\n",
       "        [ 0.00342163,  0.12579175, -0.14826402, ...,  1.07997341,\n",
       "          1.41756716,  0.18395814],\n",
       "        [ 0.0020967 ,  0.14522463, -0.1185302 , ...,  1.05986068,\n",
       "          1.23770532,  0.0584935 ]]), array([1., 1., 1., ..., 0., 0., 0.]))"
      ]
     },
     "execution_count": 7,
     "metadata": {},
     "output_type": "execute_result"
    }
   ],
   "source": [
    "load_features('train')"
   ]
  },
  {
   "cell_type": "code",
   "execution_count": 8,
   "metadata": {},
   "outputs": [
    {
     "data": {
      "text/plain": [
       "array([[ 0.00219729,  0.07756035, -0.10167341, ...,  1.06835803,\n",
       "         1.26645163,  0.13137526],\n",
       "       [ 0.00218541,  0.05919245, -0.08369585, ...,  1.04170821,\n",
       "         1.22022052,  0.06855069],\n",
       "       [ 0.00217857,  0.07167769, -0.09272506, ...,  1.07978179,\n",
       "         1.24696034,  0.13072254],\n",
       "       ...,\n",
       "       [ 0.00208819,  0.09397179, -0.08237127, ...,  1.0489835 ,\n",
       "         1.21630223,  0.03587556],\n",
       "       [ 0.00222016,  0.11238885, -0.15232602, ...,  1.06512453,\n",
       "         1.31859065,  0.18185512],\n",
       "       [ 0.00182159,  0.08232194, -0.08001406, ...,  1.05746939,\n",
       "         1.27963544,  0.07774284]])"
      ]
     },
     "execution_count": 8,
     "metadata": {},
     "output_type": "execute_result"
    }
   ],
   "source": [
    "X_train"
   ]
  },
  {
   "cell_type": "markdown",
   "metadata": {},
   "source": [
    "### Extract eval features"
   ]
  },
  {
   "cell_type": "code",
   "execution_count": 9,
   "metadata": {},
   "outputs": [],
   "source": [
    "X_eval_bonafide_list = []\n",
    "X_eval_spoof_list = []\n",
    "\n",
    "for l in lpc_lengths:\n",
    "    eval_features = pd.read_pickle('/nas/home/cborrelli/bot_speech/features/eval_LPC_' + str(l) +'.pkl')\n",
    "    #eval_features = eval_features[~eval_features['audio_filename'].isin(excluded_files)]\n",
    "    #eval_features.drop('coeff', axis=1, inplace=True)\n",
    "    eval_features.dropna(inplace=True)\n",
    "\n",
    "    eval_bonafide_features = eval_features[eval_features['label']=='bonafide']\n",
    "    eval_spoof_features= eval_features[eval_features['label']=='spoof']\n",
    "    \n",
    "    if l==1:\n",
    "        eval_spoof_features = eval_features[\n",
    "            eval_features['label']=='spoof'].sample(n=eval_bonafide_features.shape[0])\n",
    "        selected_files = eval_spoof_features['audio_filename']\n",
    "    else:\n",
    "        eval_spoof_features = eval_spoof_features[eval_spoof_features['audio_filename'].isin(selected_files)]\n",
    "    \n",
    "    X_eval_bonafide_list.append(np.array(eval_bonafide_features['lpc_res_mean']).reshape((-1, 1)))\n",
    "    X_eval_bonafide_list.append(np.array(eval_bonafide_features['lpc_res_max']).reshape((-1, 1)))\n",
    "    X_eval_bonafide_list.append(np.array(eval_bonafide_features['lpc_res_min']).reshape((-1, 1)))\n",
    "    X_eval_bonafide_list.append(np.array(eval_bonafide_features['lpc_res_var']).reshape((-1, 1)))\n",
    "    X_eval_bonafide_list.append(np.array(eval_bonafide_features['lpc_gain_max']).reshape((-1, 1)))\n",
    "    X_eval_bonafide_list.append(np.array(eval_bonafide_features['lpc_gain_min']).reshape((-1, 1)))\n",
    "    X_eval_bonafide_list.append(np.array(eval_bonafide_features['lpc_gain_mean']).reshape((-1, 1)))\n",
    "    X_eval_bonafide_list.append(np.array(eval_bonafide_features['lpc_gain_var']).reshape((-1, 1)))\n",
    "    X_eval_bonafide_list.append(np.array(eval_bonafide_features['ltp_res_mean']).reshape((-1, 1)))\n",
    "    X_eval_bonafide_list.append(np.array(eval_bonafide_features['ltp_res_max']).reshape((-1, 1)))\n",
    "    X_eval_bonafide_list.append(np.array(eval_bonafide_features['ltp_res_min']).reshape((-1, 1)))\n",
    "    X_eval_bonafide_list.append(np.array(eval_bonafide_features['ltp_res_var']).reshape((-1, 1)))\n",
    "    X_eval_bonafide_list.append(np.array(eval_bonafide_features['ltp_gain_max']).reshape((-1, 1)))\n",
    "    X_eval_bonafide_list.append(np.array(eval_bonafide_features['ltp_gain_min']).reshape((-1, 1)))\n",
    "    X_eval_bonafide_list.append(np.array(eval_bonafide_features['ltp_gain_mean']).reshape((-1, 1)))\n",
    "    X_eval_bonafide_list.append(np.array(eval_bonafide_features['ltp_gain_var']).reshape((-1, 1)))\n",
    "\n",
    "    X_eval_spoof_list.append(np.array(eval_spoof_features['lpc_res_mean']).reshape((-1, 1)))\n",
    "    X_eval_spoof_list.append(np.array(eval_spoof_features['lpc_res_max']).reshape((-1, 1)))\n",
    "    X_eval_spoof_list.append(np.array(eval_spoof_features['lpc_res_min']).reshape((-1, 1)))\n",
    "    X_eval_spoof_list.append(np.array(eval_spoof_features['lpc_res_var']).reshape((-1, 1)))\n",
    "    X_eval_spoof_list.append(np.array(eval_spoof_features['lpc_gain_max']).reshape((-1, 1)))\n",
    "    X_eval_spoof_list.append(np.array(eval_spoof_features['lpc_gain_min']).reshape((-1, 1)))\n",
    "    X_eval_spoof_list.append(np.array(eval_spoof_features['lpc_gain_mean']).reshape((-1, 1)))\n",
    "    X_eval_spoof_list.append(np.array(eval_spoof_features['lpc_gain_var']).reshape((-1, 1)))\n",
    "    X_eval_spoof_list.append(np.array(eval_spoof_features['ltp_res_mean']).reshape((-1, 1)))\n",
    "    X_eval_spoof_list.append(np.array(eval_spoof_features['ltp_res_max']).reshape((-1, 1)))\n",
    "    X_eval_spoof_list.append(np.array(eval_spoof_features['ltp_res_min']).reshape((-1, 1)))\n",
    "    X_eval_spoof_list.append(np.array(eval_spoof_features['ltp_res_var']).reshape((-1, 1)))\n",
    "    X_eval_spoof_list.append(np.array(eval_spoof_features['ltp_gain_max']).reshape((-1, 1)))\n",
    "    X_eval_spoof_list.append(np.array(eval_spoof_features['ltp_gain_min']).reshape((-1, 1)))\n",
    "    X_eval_spoof_list.append(np.array(eval_spoof_features['ltp_gain_mean']).reshape((-1, 1)))\n",
    "    X_eval_spoof_list.append(np.array(eval_spoof_features['ltp_gain_var']).reshape((-1, 1)))"
   ]
  },
  {
   "cell_type": "code",
   "execution_count": 10,
   "metadata": {},
   "outputs": [],
   "source": [
    "X_eval_bonafide = np.concatenate(X_eval_bonafide_list, axis=1)\n",
    "X_eval_spoof = np.concatenate(X_eval_spoof_list, axis=1)\n",
    "X_eval = np.concatenate((X_eval_bonafide, X_eval_spoof), axis=0)\n",
    "\n",
    "y_eval_bonafide = np.ones((X_eval_bonafide.shape[0],))\n",
    "y_eval_spoof = np.zeros((X_eval_spoof.shape[0],))\n",
    "\n",
    "y_eval = np.concatenate((y_eval_bonafide, y_eval_spoof), axis=0)"
   ]
  },
  {
   "cell_type": "code",
   "execution_count": 11,
   "metadata": {},
   "outputs": [
    {
     "data": {
      "text/plain": [
       "(2518, 800)"
      ]
     },
     "execution_count": 11,
     "metadata": {},
     "output_type": "execute_result"
    }
   ],
   "source": [
    "X_train_spoof.shape"
   ]
  },
  {
   "cell_type": "markdown",
   "metadata": {},
   "source": [
    "## Reshape data for CNN"
   ]
  },
  {
   "cell_type": "code",
   "execution_count": 12,
   "metadata": {},
   "outputs": [
    {
     "name": "stdout",
     "output_type": "stream",
     "text": [
      "(5036, 16, 50)\n"
     ]
    }
   ],
   "source": [
    "n_features = 16\n",
    "lpc_lenght = 50\n",
    "reshaped_X_train = np.zeros([X_train.shape[0], n_features, lpc_lenght ])\n",
    "for n in np.arange(X_train.shape[0]):\n",
    "    for i in np.arange(n_features):\n",
    "        reshaped_X_train[n, i, :] = X_train[n, i::n_features]\n",
    "\n",
    "print(reshaped_X_train.shape)"
   ]
  },
  {
   "cell_type": "code",
   "execution_count": 13,
   "metadata": {
    "scrolled": true
   },
   "outputs": [
    {
     "name": "stdout",
     "output_type": "stream",
     "text": [
      "(14080, 16, 50)\n"
     ]
    }
   ],
   "source": [
    "n_features = 16\n",
    "lpc_lenght = 50\n",
    "reshaped_X_eval = np.zeros([X_eval.shape[0], n_features, lpc_lenght ])\n",
    "for n in np.arange(X_eval.shape[0]):\n",
    "    for i in np.arange(n_features):\n",
    "        reshaped_X_eval[n, i, :] = X_eval[n, i::n_features]\n",
    "\n",
    "print(reshaped_X_eval.shape)"
   ]
  },
  {
   "cell_type": "code",
   "execution_count": 14,
   "metadata": {},
   "outputs": [
    {
     "name": "stdout",
     "output_type": "stream",
     "text": [
      "(4834, 16, 50)\n"
     ]
    }
   ],
   "source": [
    "n_features = 16\n",
    "lpc_lenght = 50\n",
    "reshaped_X_dev = np.zeros([X_dev.shape[0], n_features, lpc_lenght ])\n",
    "for n in np.arange(X_dev.shape[0]):\n",
    "    for i in np.arange(n_features):\n",
    "        reshaped_X_dev[n, i, :] = X_dev[n, i::n_features]\n",
    "\n",
    "print(reshaped_X_dev.shape)"
   ]
  },
  {
   "cell_type": "markdown",
   "metadata": {},
   "source": [
    "## Normalize features"
   ]
  },
  {
   "cell_type": "code",
   "execution_count": null,
   "metadata": {},
   "outputs": [],
   "source": []
  },
  {
   "cell_type": "code",
   "execution_count": 187,
   "metadata": {},
   "outputs": [],
   "source": [
    "def pippo(**kwargs):\n",
    "    if 'minmax' in kwargs.keys():\n",
    "        x_min, x_max = kwargs['minmax']\n",
    "        print('minmax', x_min, x_max)\n",
    "    elif 'zscore' in kwargs.keys():\n",
    "        x_mu, x_std = kwargs['zscore']\n",
    "        print('zscore', x_mu, x_std)\n",
    "    else:        \n",
    "        raise NotImplementedError('Normalization not defined')\n"
   ]
  },
  {
   "cell_type": "code",
   "execution_count": 188,
   "metadata": {},
   "outputs": [],
   "source": [
    "kwargs = {'zscore': [0, 1]}\n",
    "kwargs = {'minmax': [5, 10]}"
   ]
  },
  {
   "cell_type": "code",
   "execution_count": 189,
   "metadata": {},
   "outputs": [
    {
     "ename": "NotImplementedError",
     "evalue": "Normalization not defined",
     "output_type": "error",
     "traceback": [
      "\u001b[0;31m---------------------------------------------------------------------------\u001b[0m",
      "\u001b[0;31mNotImplementedError\u001b[0m                       Traceback (most recent call last)",
      "\u001b[0;32m<ipython-input-189-c162b064b32a>\u001b[0m in \u001b[0;36m<module>\u001b[0;34m\u001b[0m\n\u001b[0;32m----> 1\u001b[0;31m \u001b[0mpippo\u001b[0m\u001b[0;34m(\u001b[0m\u001b[0maa\u001b[0m\u001b[0;34m=\u001b[0m\u001b[0;34m[\u001b[0m\u001b[0;36m5\u001b[0m\u001b[0;34m,\u001b[0m \u001b[0;36m19\u001b[0m\u001b[0;34m]\u001b[0m\u001b[0;34m)\u001b[0m\u001b[0;34m\u001b[0m\u001b[0;34m\u001b[0m\u001b[0m\n\u001b[0m",
      "\u001b[0;32m<ipython-input-187-0754545a4355>\u001b[0m in \u001b[0;36mpippo\u001b[0;34m(**kwargs)\u001b[0m\n\u001b[1;32m      7\u001b[0m         \u001b[0mprint\u001b[0m\u001b[0;34m(\u001b[0m\u001b[0;34m'zscore'\u001b[0m\u001b[0;34m,\u001b[0m \u001b[0mx_mu\u001b[0m\u001b[0;34m,\u001b[0m \u001b[0mx_std\u001b[0m\u001b[0;34m)\u001b[0m\u001b[0;34m\u001b[0m\u001b[0;34m\u001b[0m\u001b[0m\n\u001b[1;32m      8\u001b[0m     \u001b[0;32melse\u001b[0m\u001b[0;34m:\u001b[0m\u001b[0;34m\u001b[0m\u001b[0;34m\u001b[0m\u001b[0m\n\u001b[0;32m----> 9\u001b[0;31m         \u001b[0;32mraise\u001b[0m \u001b[0mNotImplementedError\u001b[0m\u001b[0;34m(\u001b[0m\u001b[0;34m'Normalization not defined'\u001b[0m\u001b[0;34m)\u001b[0m\u001b[0;34m\u001b[0m\u001b[0;34m\u001b[0m\u001b[0m\n\u001b[0m",
      "\u001b[0;31mNotImplementedError\u001b[0m: Normalization not defined"
     ]
    }
   ],
   "source": [
    "pippo(aa=[5, 19])"
   ]
  },
  {
   "cell_type": "code",
   "execution_count": null,
   "metadata": {},
   "outputs": [],
   "source": []
  },
  {
   "cell_type": "code",
   "execution_count": 136,
   "metadata": {
    "scrolled": true
   },
   "outputs": [],
   "source": [
    "preprocessing_root = '/nas/home/cborrelli/bot_speech/preprocessing/'\n",
    "\n",
    "\n",
    "\n",
    "def preprocess_features(X, p_axis=(0),  **kwargs):\n",
    "    \"\"\"\n",
    "    Normalize feature following one algorithm\n",
    "    :param X: feature matrix of dimension N_samples x n_features x LPC_length\n",
    "    :param preprocessing: algorithm used for standardization or normalization \n",
    "    chosen between 'l2_norm', 'l1_norm','max_norm', 'min_maxscaler', 'z_score', 'no_norm'\n",
    "    :param p_axis: axis along standardization is operated: \n",
    "    this parameter is not used for normalization,\n",
    "    if 0 the feature is normalized along the LPC orders, if 1 along all the samples\n",
    "    :param is_train: if the feature matrix is the training matrix then fit the scalers, \n",
    "    if not load the fitted scalers\n",
    "    :return: normalized feature matrix of dimension N_samples x N_features x LPC_length\n",
    "    \"\"\"\n",
    "    n_features = X.shape[1]\n",
    "    \n",
    "    norm_X = np.zeros(X.shape)\n",
    "    \n",
    "    \n",
    "    \n",
    "    if 'minmax_scaler' in kwargs.keys():\n",
    "        feat_min, feat_max = kwargs['minmax_scaler']\n",
    "        \n",
    "        if not feat_min.any() and not feat_max.any():\n",
    "            feat_min = np.expand_dims(X.min(axis=p_axis), axis=p_axis)\n",
    "            feat_max = np.expand_dims(X.max(axis=p_axis), axis=p_axis)\n",
    "        \n",
    "        norm_X = (X - feat_min)  / (feat_max - feat_min)\n",
    "        return_args = [norm_X, feat_min, feat_max]\n",
    "        \n",
    "        \n",
    "    elif 'z_score' in kwargs.keys():\n",
    "        x_mu, x_std = kwargs['z_score']\n",
    "        \n",
    "        if not x_mu.any() and not x_std.any():\n",
    "            x_mu = np.expand_dims(X.mean(axis=p_axis), axis=p_axis)\n",
    "            x_std = np.expand_dims(X.std(axis=p_axis), axis=p_axis)\n",
    "\n",
    "        norm_X = (X - x_mu) / x_std\n",
    "        return_args = [norm_X, x_mu, x_std]\n",
    "        \n",
    "    elif 'l2_norm' in kwargs.keys():\n",
    "        for feature_index in np.arange(n_features):\n",
    "            norm_X[:, feature_index, :] = sklearn.preprocessing.normalize(X[:, feature_index, :], norm='l2')\n",
    "        return_args = [norm_X, None, None]\n",
    "    \n",
    "    elif 'l1_norm' in kwargs.keys():\n",
    "        for feature_index in np.arange(n_features):\n",
    "            norm_X[:, feature_index, :] = sklearn.preprocessing.normalize(X[:, feature_index, :], norm='l1')\n",
    "        return_args = [norm_X, None, None]\n",
    "    elif 'no_norm' in kwargs.keys():\n",
    "        norm_X = X\n",
    "        return_args = [norm_X, _, _]\n",
    "        \n",
    "    elif 'max_norm'in kwargs.keys():\n",
    "        for feature_index in np.arange(n_features):\n",
    "            norm_X[:, feature_index, :] = sklearn.preprocessing.normalize(X[:, feature_index, :], norm='max')\n",
    "        return_args = [norm_X, None, None]\n",
    "        \n",
    "    else:        \n",
    "        raise NotImplementedError('Normalization not defined') \n",
    "    \n",
    "    \n",
    "\n",
    "    \n",
    "   \n",
    "    else:\n",
    "        print('Error in normalization, select a valid normalization algorithm')\n",
    "    \n",
    "    return return_args\n"
   ]
  },
  {
   "cell_type": "code",
   "execution_count": 130,
   "metadata": {},
   "outputs": [],
   "source": [
    "a = np.ones((10, 1))"
   ]
  },
  {
   "cell_type": "code",
   "execution_count": 133,
   "metadata": {},
   "outputs": [
    {
     "data": {
      "text/plain": [
       "False"
      ]
     },
     "execution_count": 133,
     "metadata": {},
     "output_type": "execute_result"
    }
   ],
   "source": [
    "not a.any()"
   ]
  },
  {
   "cell_type": "code",
   "execution_count": null,
   "metadata": {},
   "outputs": [],
   "source": []
  },
  {
   "cell_type": "code",
   "execution_count": 129,
   "metadata": {},
   "outputs": [
    {
     "ename": "ValueError",
     "evalue": "The truth value of an array with more than one element is ambiguous. Use a.any() or a.all()",
     "output_type": "error",
     "traceback": [
      "\u001b[0;31m---------------------------------------------------------------------------\u001b[0m",
      "\u001b[0;31mValueError\u001b[0m                                Traceback (most recent call last)",
      "\u001b[0;32m<ipython-input-129-c0ebebe19264>\u001b[0m in \u001b[0;36m<module>\u001b[0;34m\u001b[0m\n\u001b[1;32m      1\u001b[0m \u001b[0mnorm_X_train\u001b[0m\u001b[0;34m,\u001b[0m \u001b[0mparam1\u001b[0m\u001b[0;34m,\u001b[0m \u001b[0mparam2\u001b[0m \u001b[0;34m=\u001b[0m \u001b[0mpreprocess_features\u001b[0m\u001b[0;34m(\u001b[0m\u001b[0mreshaped_X_train\u001b[0m\u001b[0;34m,\u001b[0m \u001b[0mpreprocessing\u001b[0m\u001b[0;34m=\u001b[0m\u001b[0;34m'z_score'\u001b[0m\u001b[0;34m)\u001b[0m\u001b[0;34m\u001b[0m\u001b[0;34m\u001b[0m\u001b[0m\n\u001b[1;32m      2\u001b[0m norm_X_dev, _, _ = preprocess_features(reshaped_X_dev, preprocessing='z_score', \n\u001b[0;32m----> 3\u001b[0;31m                                        feat_param1 = param1, feat_param2 = param2 )\n\u001b[0m\u001b[1;32m      4\u001b[0m \u001b[0;31m#norm_X_eval = preprocess_features(reshaped_X_eval, preprocessing='l2_norm')\u001b[0m\u001b[0;34m\u001b[0m\u001b[0;34m\u001b[0m\u001b[0;34m\u001b[0m\u001b[0m\n",
      "\u001b[0;32m<ipython-input-128-e2f7a1cfaa36>\u001b[0m in \u001b[0;36mpreprocess_features\u001b[0;34m(X, n_features, preprocessing, p_axis, feat_param1, feat_param2)\u001b[0m\n\u001b[1;32m     44\u001b[0m \u001b[0;34m\u001b[0m\u001b[0m\n\u001b[1;32m     45\u001b[0m     \u001b[0;32melif\u001b[0m \u001b[0mpreprocessing\u001b[0m\u001b[0;34m==\u001b[0m\u001b[0;34m'z_score'\u001b[0m\u001b[0;34m:\u001b[0m\u001b[0;34m\u001b[0m\u001b[0;34m\u001b[0m\u001b[0m\n\u001b[0;32m---> 46\u001b[0;31m         \u001b[0;32mif\u001b[0m \u001b[0;32mnot\u001b[0m \u001b[0mfeat_param1\u001b[0m \u001b[0;32mand\u001b[0m \u001b[0;32mnot\u001b[0m \u001b[0mfeat_param2\u001b[0m\u001b[0;34m:\u001b[0m\u001b[0;34m\u001b[0m\u001b[0;34m\u001b[0m\u001b[0m\n\u001b[0m\u001b[1;32m     47\u001b[0m             \u001b[0mfeat_param1\u001b[0m \u001b[0;34m=\u001b[0m \u001b[0mnp\u001b[0m\u001b[0;34m.\u001b[0m\u001b[0mexpand_dims\u001b[0m\u001b[0;34m(\u001b[0m\u001b[0mX\u001b[0m\u001b[0;34m.\u001b[0m\u001b[0mmean\u001b[0m\u001b[0;34m(\u001b[0m\u001b[0maxis\u001b[0m\u001b[0;34m=\u001b[0m\u001b[0mp_axis\u001b[0m\u001b[0;34m)\u001b[0m\u001b[0;34m,\u001b[0m \u001b[0maxis\u001b[0m\u001b[0;34m=\u001b[0m\u001b[0mp_axis\u001b[0m\u001b[0;34m)\u001b[0m\u001b[0;34m\u001b[0m\u001b[0;34m\u001b[0m\u001b[0m\n\u001b[1;32m     48\u001b[0m             \u001b[0mfeat_param2\u001b[0m \u001b[0;34m=\u001b[0m \u001b[0mnp\u001b[0m\u001b[0;34m.\u001b[0m\u001b[0mexpand_dims\u001b[0m\u001b[0;34m(\u001b[0m\u001b[0mX\u001b[0m\u001b[0;34m.\u001b[0m\u001b[0mstd\u001b[0m\u001b[0;34m(\u001b[0m\u001b[0maxis\u001b[0m\u001b[0;34m=\u001b[0m\u001b[0mp_axis\u001b[0m\u001b[0;34m)\u001b[0m\u001b[0;34m,\u001b[0m \u001b[0maxis\u001b[0m\u001b[0;34m=\u001b[0m\u001b[0mp_axis\u001b[0m\u001b[0;34m)\u001b[0m\u001b[0;34m\u001b[0m\u001b[0;34m\u001b[0m\u001b[0m\n",
      "\u001b[0;31mValueError\u001b[0m: The truth value of an array with more than one element is ambiguous. Use a.any() or a.all()"
     ]
    }
   ],
   "source": [
    "norm_X_train, param1, param2 = preprocess_features(reshaped_X_train, preprocessing='z_score')\n",
    "norm_X_dev, _, _ = preprocess_features(reshaped_X_dev, preprocessing='z_score', \n",
    "                                       feat_param1 = param1, feat_param2 = param2 )\n",
    "#norm_X_eval = preprocess_features(reshaped_X_eval, preprocessing='l2_norm')"
   ]
  },
  {
   "cell_type": "code",
   "execution_count": 191,
   "metadata": {
    "scrolled": true
   },
   "outputs": [
    {
     "ename": "ValueError",
     "evalue": "The truth value of an array with more than one element is ambiguous. Use a.any() or a.all()",
     "output_type": "error",
     "traceback": [
      "\u001b[0;31m---------------------------------------------------------------------------\u001b[0m",
      "\u001b[0;31mValueError\u001b[0m                                Traceback (most recent call last)",
      "\u001b[0;32m<ipython-input-191-99c5eb180586>\u001b[0m in \u001b[0;36m<module>\u001b[0;34m\u001b[0m\n\u001b[0;32m----> 1\u001b[0;31m \u001b[0;32mnot\u001b[0m \u001b[0mparam1\u001b[0m\u001b[0;34m\u001b[0m\u001b[0;34m\u001b[0m\u001b[0m\n\u001b[0m",
      "\u001b[0;31mValueError\u001b[0m: The truth value of an array with more than one element is ambiguous. Use a.any() or a.all()"
     ]
    }
   ],
   "source": [
    "not param1 "
   ]
  },
  {
   "cell_type": "code",
   "execution_count": 48,
   "metadata": {
    "scrolled": true
   },
   "outputs": [
    {
     "data": {
      "text/plain": [
       "(16, 251800)"
      ]
     },
     "execution_count": 48,
     "metadata": {},
     "output_type": "execute_result"
    }
   ],
   "source": [
    "a.shape"
   ]
  },
  {
   "cell_type": "code",
   "execution_count": null,
   "metadata": {
    "scrolled": true
   },
   "outputs": [],
   "source": [
    "\n",
    "feature_list = ['lpc_res_mean', 'lpc_res_max', 'lpc_res_min', \n",
    "                'lpc_res_var', 'lpc_gain_max', 'lpc_gain_min', 'lpc_gain_mean', 'lpc_gain_var',\n",
    "                'ltp_res_mean', 'ltp_res_max', 'ltp_res_min', \n",
    "                'ltp_res_var', 'ltp_gain_max', 'ltp_gain_min', 'ltp_gain_mean', 'ltp_gain_var']\n",
    "\n",
    "n_features = 16\n",
    "lpc_lenght = 50\n",
    "feature_index = 1\n",
    "\n",
    "for feature_index in np.arange(n_features):\n",
    "    plt.figure(figsize=(16, 8))\n",
    "    plt.title(feature_list[feature_index])\n",
    "    plt.imshow(norm_X_train[:, feature_index, :], aspect='auto')\n",
    "    \n",
    "    plt.colorbar()"
   ]
  },
  {
   "cell_type": "code",
   "execution_count": null,
   "metadata": {
    "scrolled": true
   },
   "outputs": [],
   "source": [
    "for sample_index in np.arange(0, norm_X_train.shape[0], 500):\n",
    "    plt.figure(figsize=(16, 8))\n",
    "    plt.imshow(norm_X_train[sample_index, :, :], aspect='auto')\n",
    "    \n",
    "    plt.colorbar()"
   ]
  },
  {
   "cell_type": "code",
   "execution_count": null,
   "metadata": {},
   "outputs": [],
   "source": []
  },
  {
   "cell_type": "code",
   "execution_count": null,
   "metadata": {},
   "outputs": [],
   "source": []
  },
  {
   "cell_type": "code",
   "execution_count": null,
   "metadata": {},
   "outputs": [],
   "source": []
  },
  {
   "cell_type": "code",
   "execution_count": null,
   "metadata": {},
   "outputs": [],
   "source": []
  },
  {
   "cell_type": "markdown",
   "metadata": {},
   "source": [
    "## Train tutorial CNN"
   ]
  },
  {
   "cell_type": "code",
   "execution_count": null,
   "metadata": {},
   "outputs": [],
   "source": [
    "logdir = \"logs/scalars/model1_\" + datetime.now().strftime(\"%Y%m%d-%H%M%S\")\n",
    "tensorboard_callback = tensorflow.keras.callbacks.TensorBoard(log_dir=logdir)"
   ]
  },
  {
   "cell_type": "code",
   "execution_count": null,
   "metadata": {},
   "outputs": [],
   "source": [
    "batch_size = 128\n",
    "num_classes = 2\n",
    "epochs = 12\n",
    "\n",
    "\n",
    "# convert class vectors to binary class matrices\n",
    "y_train_cat = tensorflow.keras.utils.to_categorical(y_train, num_classes)\n",
    "y_dev_cat = tensorflow.keras.utils.to_categorical(y_dev, num_classes)\n",
    "\n"
   ]
  },
  {
   "cell_type": "code",
   "execution_count": null,
   "metadata": {},
   "outputs": [],
   "source": [
    "from tensorflow.keras.models import Sequential\n",
    "from tensorflow.keras.layers import Dense, Dropout, Flatten, Input, Activation\n",
    "from tensorflow.keras.models import Model\n",
    "from tensorflow.keras.layers import Conv2D, MaxPooling2D"
   ]
  },
  {
   "cell_type": "code",
   "execution_count": null,
   "metadata": {},
   "outputs": [],
   "source": [
    "num_features = 16\n",
    "max_lpc_order = 50\n",
    "\n",
    "x = Input(shape=[num_features, max_lpc_order, 1])\n",
    "\n",
    "c1 = Conv2D(32, kernel_size=(3, 3), activation='relu', input_shape=[num_features, max_lpc_order, 1], name='conv1')(x)\n",
    "c2 = Conv2D(64, (3, 3), activation='relu', name='conv2')(c1)\n",
    "mp1 = MaxPooling2D(pool_size=(2, 2), name='mp1')(c2)\n",
    "dp1 = Dropout(0.25, name='dp1')(mp1)\n",
    "fl1 = Flatten(name='fl1')(dp1)\n",
    "d1 = Dense(128, activation='relu', name='d1')(fl1)\n",
    "dp2 = Dropout(0.5, name='dp2')(d1)\n",
    "d2 = Dense(num_classes, activation=None, name='d2')(dp2)\n",
    "out =  Activation('softmax', name='output')(d2)\n",
    "model_fun = Model(inputs=x, outputs=out)\n",
    "\n",
    "model_fun.summary()"
   ]
  },
  {
   "cell_type": "code",
   "execution_count": null,
   "metadata": {
    "scrolled": true
   },
   "outputs": [],
   "source": [
    "model = Sequential()\n",
    "model.add(Conv2D(32, kernel_size=(3, 3),\n",
    "                 activation='relu',\n",
    "                 input_shape=[16, 50, 1]))\n",
    "model.add(Conv2D(64, (3, 3), activation='relu'))\n",
    "model.add(MaxPooling2D(pool_size=(2, 2)))\n",
    "model.add(Dropout(0.25))\n",
    "model.add(Flatten())\n",
    "model.add(Dense(128, activation='relu'))\n",
    "model.add(Dropout(0.5))\n",
    "model.add(Dense(num_classes, activation='softmax'))\n",
    "\n",
    "model.summary()"
   ]
  },
  {
   "cell_type": "code",
   "execution_count": null,
   "metadata": {
    "scrolled": false
   },
   "outputs": [],
   "source": [
    "model_fun.compile(loss=tensorflow.keras.losses.categorical_crossentropy,\n",
    "              optimizer=tensorflow.keras.optimizers.Adam(),\n",
    "              metrics=['accuracy'])\n",
    "\n",
    "reduce_lr = tensorflow.keras.callbacks.ReduceLROnPlateau(monitor='loss', factor=0.2,\n",
    "                              patience=5, min_lr=0.001)\n",
    "\n",
    "training_history = model_fun.fit(np.expand_dims(norm_X_train, axis=3), y_train_cat,\n",
    "          batch_size=batch_size,\n",
    "          epochs=epochs,\n",
    "          verbose=1,\n",
    "          callbacks=[reduce_lr, tensorboard_callback], \n",
    "          validation_data=[np.expand_dims(norm_X_dev, axis=3), y_dev_cat])\n",
    "\n",
    "print(\"Average test loss: \", np.average(training_history.history['loss']))\n"
   ]
  },
  {
   "cell_type": "code",
   "execution_count": null,
   "metadata": {},
   "outputs": [],
   "source": [
    "score = model.evaluate(np.expand_dims(norm_X_dev, axis=3), y_dev_cat, verbose=0)\n",
    "print('Test loss:', score[0])\n",
    "print('Test accuracy:', score[1])"
   ]
  },
  {
   "cell_type": "markdown",
   "metadata": {},
   "source": [
    "## Train on train and dev"
   ]
  },
  {
   "cell_type": "code",
   "execution_count": null,
   "metadata": {},
   "outputs": [],
   "source": [
    "logdir = \"logs/scalars/model2_\" + datetime.now().strftime(\"%Y%m%d-%H%M%S\")\n",
    "tensorboard_callback = tensorflow.keras.callbacks.TensorBoard(log_dir=logdir)"
   ]
  },
  {
   "cell_type": "code",
   "execution_count": null,
   "metadata": {},
   "outputs": [],
   "source": [
    "X_bonafide = np.concatenate((X_train_bonafide, X_dev_bonafide), axis=0)\n",
    "X_spoof = np.concatenate((X_train_spoof, X_dev_spoof), axis=0)\n",
    "                \n",
    "X = np.concatenate((X_bonafide, X_spoof), axis=0)"
   ]
  },
  {
   "cell_type": "code",
   "execution_count": null,
   "metadata": {},
   "outputs": [],
   "source": [
    "y_bonafide = np.ones([X_bonafide.shape[0],])\n",
    "y_spoof = np.zeros([X_spoof.shape[0],])\n",
    "\n",
    "y = np.concatenate((y_bonafide, y_spoof), axis=0)"
   ]
  },
  {
   "cell_type": "code",
   "execution_count": null,
   "metadata": {},
   "outputs": [],
   "source": [
    "n_features = 16\n",
    "lpc_lenght = 50\n",
    "reshaped_X = np.zeros([X.shape[0], n_features, lpc_lenght ])\n",
    "for n in np.arange(X.shape[0]):\n",
    "    for i in np.arange(n_features):\n",
    "        reshaped_X[n, i, :] = X[n, i::n_features]\n",
    "\n",
    "print(reshaped_X.shape)"
   ]
  },
  {
   "cell_type": "code",
   "execution_count": null,
   "metadata": {},
   "outputs": [],
   "source": [
    "norm_X = np.zeros(reshaped_X.shape)\n",
    "\n",
    "for feature_index in np.arange(n_features):\n",
    "    norm_X[:, feature_index, :] = sklearn.preprocessing.normalize(reshaped_X[:, feature_index, :])\n"
   ]
  },
  {
   "cell_type": "code",
   "execution_count": null,
   "metadata": {},
   "outputs": [],
   "source": [
    "y_cat = tensorflow.keras.utils.to_categorical(y, num_classes)\n",
    "y_eval_cat = tensorflow.keras.utils.to_categorical(y_eval, num_classes)"
   ]
  },
  {
   "cell_type": "code",
   "execution_count": null,
   "metadata": {},
   "outputs": [],
   "source": [
    "model2 = Sequential()\n",
    "model2.add(Conv2D(32, kernel_size=(3, 3),\n",
    "                 activation='relu',\n",
    "                 input_shape=[16, 50, 1]))\n",
    "model2.add(Conv2D(64, (3, 3), activation='relu'))\n",
    "model2.add(MaxPooling2D(pool_size=(2, 2)))\n",
    "model2.add(Dropout(0.25))\n",
    "model2.add(Flatten())\n",
    "model2.add(Dense(128, activation='relu'))\n",
    "model2.add(Dropout(0.5))\n",
    "model2.add(Dense(num_classes, activation='softmax'))\n",
    "\n",
    "model2.summary()"
   ]
  },
  {
   "cell_type": "code",
   "execution_count": null,
   "metadata": {},
   "outputs": [],
   "source": [
    "\n",
    "model2.compile(loss=tensorflow.keras.losses.categorical_crossentropy,\n",
    "              optimizer=tensorflow.keras.optimizers.Adam(),\n",
    "              metrics=['accuracy'])\n",
    "\n",
    "reduce_lr = tensorflow.keras.callbacks.ReduceLROnPlateau(monitor='loss', factor=0.2,\n",
    "                              patience=5, min_lr=0.001)\n",
    "model2.fit(np.expand_dims(norm_X, axis=3), y_cat,\n",
    "          batch_size=batch_size, validation_data=[np.expand_dims(norm_X_eval, axis=3), y_eval_cat],\n",
    "          epochs=epochs,\n",
    "          verbose=1, \n",
    "          callbacks=[reduce_lr, tensorboard_callback])"
   ]
  },
  {
   "cell_type": "code",
   "execution_count": null,
   "metadata": {},
   "outputs": [],
   "source": [
    "score = model2.evaluate(np.expand_dims(norm_X_eval, axis=3), y_eval_cat, verbose=0)\n",
    "print('Test loss:', score[0])\n",
    "print('Test accuracy:', score[1])"
   ]
  },
  {
   "cell_type": "code",
   "execution_count": null,
   "metadata": {},
   "outputs": [],
   "source": []
  },
  {
   "cell_type": "markdown",
   "metadata": {},
   "source": [
    "## ASV metrics"
   ]
  },
  {
   "cell_type": "code",
   "execution_count": null,
   "metadata": {},
   "outputs": [],
   "source": [
    "from sklearn.metrics import roc_curve, roc_auc_score\n"
   ]
  },
  {
   "cell_type": "code",
   "execution_count": null,
   "metadata": {},
   "outputs": [],
   "source": [
    "\n",
    "\n",
    "\n",
    "def compute_det_curve(target_scores, nontarget_scores):\n",
    "\n",
    "    n_scores = target_scores.size + nontarget_scores.size\n",
    "    all_scores = np.concatenate((target_scores, nontarget_scores))\n",
    "    labels = np.concatenate((np.ones(target_scores.size), np.zeros(nontarget_scores.size)))\n",
    "\n",
    "    # Sort labels based on scores\n",
    "    indices = np.argsort(all_scores, kind='mergesort')\n",
    "    labels = labels[indices]\n",
    "\n",
    "    # Compute false rejection and false acceptance rates\n",
    "    tar_trial_sums = np.cumsum(labels)\n",
    "    nontarget_trial_sums = nontarget_scores.size - (np.arange(1, n_scores + 1) - tar_trial_sums)\n",
    "\n",
    "    frr = np.concatenate((np.atleast_1d(0), tar_trial_sums / target_scores.size))  # false rejection rates\n",
    "    far = np.concatenate((np.atleast_1d(1), nontarget_trial_sums / nontarget_scores.size))  # false acceptance rates\n",
    "    thresholds = np.concatenate((np.atleast_1d(all_scores[indices[0]] - 0.001), all_scores[indices]))  # Thresholds are the sorted scores\n",
    "\n",
    "    return frr, far, thresholds\n",
    "\n",
    "def compute_eer(target_scores, nontarget_scores):\n",
    "    \"\"\" Returns equal error rate (EER) and the corresponding threshold. \"\"\"\n",
    "    frr, far, thresholds = compute_det_curve(target_scores, nontarget_scores)\n",
    "    abs_diffs = np.abs(frr - far)\n",
    "    min_index = np.argmin(abs_diffs)\n",
    "    eer = np.mean((frr[min_index], far[min_index]))\n",
    "    return eer, thresholds[min_index]"
   ]
  },
  {
   "cell_type": "markdown",
   "metadata": {},
   "source": [
    "## ASV scores on model1"
   ]
  },
  {
   "cell_type": "code",
   "execution_count": null,
   "metadata": {},
   "outputs": [],
   "source": [
    "y_dev_hat = model.predict(np.expand_dims(norm_X_dev, axis=3))[:,0]\n",
    "\n",
    "\n",
    "[fpr, tpr, th] = roc_curve(y_dev, y_dev_hat, pos_label=0)\n",
    "roc_auc = 1 - roc_auc_score(y_dev, y_dev_hat)\n",
    "\n",
    "acc = (tpr + (1-fpr)) / 2\n",
    "best_th = th[np.where(acc == np.max(acc))]\n",
    "print(best_th)\n",
    "print(acc.max())\n",
    "\n",
    "plt.plot(fpr, tpr, label='AUC={}'.format(roc_auc))\n",
    "plt.plot([0, 1], [0, 1], ':k')\n",
    "plt.plot([1, 0], [0, 1], ':k')\n",
    "plt.axis([-0.01, 1, 0, 1.01])\n",
    "plt.grid(True)\n",
    "plt.legend()\n",
    "plt.show()"
   ]
  },
  {
   "cell_type": "code",
   "execution_count": null,
   "metadata": {},
   "outputs": [],
   "source": [
    "target_score = y_dev_hat[np.where(y_dev==0)]\n",
    "nontarget_score = y_dev_hat[np.where(y_dev==1)]\n",
    "\n",
    "fnr = 1-tpr\n",
    "\n",
    "plt.figure()\n",
    "plt.plot(th, fnr)\n",
    "plt.plot(th, fpr)\n",
    "#plt.plot(th, np.abs(fnr-fpr))\n",
    "plt.show()\n",
    "\n",
    "compute_eer(target_score, nontarget_score)"
   ]
  },
  {
   "cell_type": "code",
   "execution_count": null,
   "metadata": {},
   "outputs": [],
   "source": []
  },
  {
   "cell_type": "code",
   "execution_count": null,
   "metadata": {},
   "outputs": [],
   "source": []
  },
  {
   "cell_type": "code",
   "execution_count": null,
   "metadata": {},
   "outputs": [],
   "source": []
  },
  {
   "cell_type": "code",
   "execution_count": null,
   "metadata": {},
   "outputs": [],
   "source": []
  },
  {
   "cell_type": "markdown",
   "metadata": {},
   "source": [
    "## ASV scores on model2"
   ]
  },
  {
   "cell_type": "code",
   "execution_count": null,
   "metadata": {},
   "outputs": [],
   "source": [
    "y_eval_hat = model2.predict(np.expand_dims(norm_X_eval, axis=3))[:,0]\n",
    "\n",
    "\n",
    "[fpr, tpr, th] = roc_curve(y_eval, y_eval_hat, pos_label=0)\n",
    "roc_auc = 1 - roc_auc_score(y_eval, y_eval_hat)\n",
    "\n",
    "acc = (tpr + (1-fpr)) / 2\n",
    "best_th = th[np.where(acc == np.max(acc))]\n",
    "print(best_th)\n",
    "print(acc.max())\n",
    "\n",
    "plt.plot(fpr, tpr, label='AUC={}'.format(roc_auc))\n",
    "plt.plot([0, 1], [0, 1], ':k')\n",
    "plt.plot([1, 0], [0, 1], ':k')\n",
    "plt.axis([-0.01, 1, 0, 1.01])\n",
    "plt.grid(True)\n",
    "plt.legend()\n",
    "plt.show()"
   ]
  },
  {
   "cell_type": "code",
   "execution_count": null,
   "metadata": {},
   "outputs": [],
   "source": [
    "target_score = y_eval_hat[np.where(y_eval==0)]\n",
    "nontarget_score = y_eval_hat[np.where(y_eval==1)]\n",
    "\n",
    "fnr = 1-tpr\n",
    "\n",
    "plt.figure()\n",
    "plt.plot(th, fnr)\n",
    "plt.plot(th, fpr)\n",
    "#plt.plot(th, np.abs(fnr-fpr))\n",
    "plt.show()\n",
    "\n",
    "compute_eer(target_score, nontarget_score)"
   ]
  },
  {
   "cell_type": "code",
   "execution_count": null,
   "metadata": {},
   "outputs": [],
   "source": []
  }
 ],
 "metadata": {
  "kernelspec": {
   "display_name": "Python 3",
   "language": "python",
   "name": "python3"
  },
  "language_info": {
   "codemirror_mode": {
    "name": "ipython",
    "version": 3
   },
   "file_extension": ".py",
   "mimetype": "text/x-python",
   "name": "python",
   "nbconvert_exporter": "python",
   "pygments_lexer": "ipython3",
   "version": "3.7.3"
  }
 },
 "nbformat": 4,
 "nbformat_minor": 2
}
